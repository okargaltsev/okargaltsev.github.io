{
 "cells": [
  {
   "cell_type": "markdown",
   "id": "bb07ac03-1875-4d4e-8604-d55b39447308",
   "metadata": {
    "tags": []
   },
   "source": [
    "This tutorial was inspired by examples from: https://tacc.github.io/CSC2017Institute/docs/day1/jupyter.html"
   ]
  },
  {
   "cell_type": "code",
   "execution_count": null,
   "id": "18520c46-db10-44fe-8b12-00c16678c11f",
   "metadata": {},
   "outputs": [],
   "source": [
    "# Heading 1\n",
    "# Heading 2\n",
    "## Heading 2.1\n",
    "## Heading 2.2\n",
    "\n",
    "# Ordered List \n",
    "\n",
    "1. First ordered list item\n",
    "2. Another item\n",
    "\n",
    "# Bulleted List \n",
    "\n",
    "* First ordered list item\n",
    "* Another item\n",
    "\n",
    "\n",
    "<dl>\n",
    "  <dt>Definition list</dt>\n",
    "  <dd>Is something people use sometimes.</dd>\n",
    "\n",
    "  <dt>Markdown in HTML</dt>\n",
    "  <dd>Does *not* work **very** well. Use HTML <em>tags</em>.</dd>\n",
    "</dl>\n",
    "\n",
    "# You can also write in Latex!\n",
    "\n",
    "$e^{i\\pi} + 1 = 0$"
   ]
  },
  {
   "cell_type": "code",
   "execution_count": 6,
   "id": "0699b2bf-7b1e-4714-83cf-4b8d74b71691",
   "metadata": {},
   "outputs": [
    {
     "name": "stdout",
     "output_type": "stream",
     "text": [
      "Hello World!\n"
     ]
    }
   ],
   "source": [
    "print('Hello World!')"
   ]
  },
  {
   "cell_type": "code",
   "execution_count": 7,
   "id": "b41155f2-6222-41f0-89b9-7ed96b16a914",
   "metadata": {},
   "outputs": [
    {
     "name": "stdout",
     "output_type": "stream",
     "text": [
      "Hello World!\n"
     ]
    }
   ],
   "source": [
    "print(\"Hello World!\")"
   ]
  },
  {
   "cell_type": "code",
   "execution_count": 9,
   "id": "d7056c75-069e-43ee-bada-4da5a594752f",
   "metadata": {},
   "outputs": [
    {
     "name": "stdout",
     "output_type": "stream",
     "text": [
      "2\n"
     ]
    }
   ],
   "source": [
    "print(1+1)"
   ]
  },
  {
   "cell_type": "code",
   "execution_count": 10,
   "id": "b7677f75-e039-4de3-aa88-01d43a8b9ddb",
   "metadata": {},
   "outputs": [
    {
     "name": "stdout",
     "output_type": "stream",
     "text": [
      "1+1\n"
     ]
    }
   ],
   "source": [
    "print(\"1+1\")"
   ]
  },
  {
   "cell_type": "markdown",
   "id": "af590082-68ee-4232-9ef7-af9209b6996f",
   "metadata": {},
   "source": [
    "\n",
    "1. You will store data into variables\n",
    "2. You can use those variables later on\n",
    "3. You can perform operations with those variables\n",
    "4. Variables are declared with a name, followed by ‘=‘ and a value (an integer, string,..).  When declaring a variable, capitalization is important: ‘A’ is not the same as ‘a’\n"
   ]
  },
  {
   "cell_type": "code",
   "execution_count": null,
   "id": "0f23eb70-8336-4d98-a50c-203961bd74c2",
   "metadata": {},
   "outputs": [],
   "source": [
    "five = 5\n",
    "one = 1\n",
    "print(five)\n",
    "print(one + one)\n",
    "message = “This is a string”\n",
    "print(message)"
   ]
  },
  {
   "cell_type": "markdown",
   "id": "ae7932de-485c-4b9c-bdc7-8b2135fc22cc",
   "metadata": {},
   "source": [
    "Note that unlike e.g. in C we are not specifying the type of the variable. We are letting Python to figure this out."
   ]
  },
  {
   "cell_type": "code",
   "execution_count": 12,
   "id": "6fbeb652-a9e8-46ec-a393-eb5745712940",
   "metadata": {},
   "outputs": [],
   "source": [
    "integer_variable = 100\n",
    "floating_point_variable = 100.0\n",
    "string_variable = \"Name\""
   ]
  },
  {
   "cell_type": "markdown",
   "id": "bc8d713d-b15e-4be9-ad74-5e4821b13c2d",
   "metadata": {},
   "source": [
    "How to see the variable type?"
   ]
  },
  {
   "cell_type": "code",
   "execution_count": 13,
   "id": "387cd0b0-6b89-4451-8d25-b26187a9ed19",
   "metadata": {},
   "outputs": [
    {
     "data": {
      "text/plain": [
       "\u001b[0;31mType:\u001b[0m        int\n",
       "\u001b[0;31mString form:\u001b[0m 100\n",
       "\u001b[0;31mDocstring:\u001b[0m  \n",
       "int([x]) -> integer\n",
       "int(x, base=10) -> integer\n",
       "\n",
       "Convert a number or string to an integer, or return 0 if no arguments\n",
       "are given.  If x is a number, return x.__int__().  For floating point\n",
       "numbers, this truncates towards zero.\n",
       "\n",
       "If x is not a number or if base is given, then x must be a string,\n",
       "bytes, or bytearray instance representing an integer literal in the\n",
       "given base.  The literal can be preceded by '+' or '-' and be surrounded\n",
       "by whitespace.  The base defaults to 10.  Valid bases are 0 and 2-36.\n",
       "Base 0 means to interpret the base from the string as an integer literal.\n",
       ">>> int('0b100', base=0)\n",
       "4\n"
      ]
     },
     "metadata": {},
     "output_type": "display_data"
    }
   ],
   "source": [
    "integer_variable?"
   ]
  },
  {
   "cell_type": "code",
   "execution_count": 15,
   "id": "f0b15d54-4341-4891-87a3-eb2547e05f39",
   "metadata": {},
   "outputs": [
    {
     "data": {
      "text/plain": [
       "\u001b[0;31mType:\u001b[0m        float\n",
       "\u001b[0;31mString form:\u001b[0m 100.0\n",
       "\u001b[0;31mDocstring:\u001b[0m   Convert a string or number to a floating point number, if possible.\n"
      ]
     },
     "metadata": {},
     "output_type": "display_data"
    }
   ],
   "source": [
    "floating_point_variable?"
   ]
  },
  {
   "cell_type": "code",
   "execution_count": 16,
   "id": "391eaa4d-4c7d-4874-bf87-6fcda2a066ed",
   "metadata": {},
   "outputs": [],
   "source": [
    "a=str(100.0)  # converts float to string"
   ]
  },
  {
   "cell_type": "code",
   "execution_count": 17,
   "id": "325984c3-1090-4f3b-9cb3-4b0d0c24e6b2",
   "metadata": {},
   "outputs": [
    {
     "data": {
      "text/plain": [
       "\u001b[0;31mType:\u001b[0m        str\n",
       "\u001b[0;31mString form:\u001b[0m 100.0\n",
       "\u001b[0;31mLength:\u001b[0m      5\n",
       "\u001b[0;31mDocstring:\u001b[0m  \n",
       "str(object='') -> str\n",
       "str(bytes_or_buffer[, encoding[, errors]]) -> str\n",
       "\n",
       "Create a new string object from the given object. If encoding or\n",
       "errors is specified, then the object must expose a data buffer\n",
       "that will be decoded using the given encoding and error handler.\n",
       "Otherwise, returns the result of object.__str__() (if defined)\n",
       "or repr(object).\n",
       "encoding defaults to sys.getdefaultencoding().\n",
       "errors defaults to 'strict'.\n"
      ]
     },
     "metadata": {},
     "output_type": "display_data"
    }
   ],
   "source": [
    "a?"
   ]
  },
  {
   "cell_type": "markdown",
   "id": "849a5525-208b-41d4-88f1-752453f419f4",
   "metadata": {},
   "source": [
    "# Operations\n",
    "\n",
    "1. \"+\"    Addition      1 + 1 = 2\n",
    "2. \"-\"\"    Subtraction   5 – 3 = 2\n",
    "3. \"/\"    Division      4 / 2 = 2\n",
    "4. \"%\"    Modulo      5 % 2 = 1\n",
    "5. \"*\"    Multiplication    5 * 2 = 10\n",
    "6. \"//\"   Floor division    5 // 2 = 2\n",
    "7. \"**\"   To the power of 2 ** 3 = 8"
   ]
  },
  {
   "cell_type": "code",
   "execution_count": 18,
   "id": "f9c229fb-f3f8-4598-80d0-973d1dde21df",
   "metadata": {},
   "outputs": [
    {
     "name": "stdout",
     "output_type": "stream",
     "text": [
      "2.5\n",
      "2.5\n",
      "helloworld\n",
      "13\n"
     ]
    }
   ],
   "source": [
    "print(5/2)\n",
    "print(5.0/2)\n",
    "print(\"hello\" + \"world\")\n",
    "print(3+5*2)"
   ]
  },
  {
   "cell_type": "code",
   "execution_count": 20,
   "id": "823dd9b2-152f-4624-9982-cd58f97979c2",
   "metadata": {},
   "outputs": [],
   "source": [
    "number1 = (5.0/2)\n",
    "number2 = (5/2)\n"
   ]
  },
  {
   "cell_type": "code",
   "execution_count": 22,
   "id": "7b92c5c5-16a3-4d97-adc9-996ef16d1e02",
   "metadata": {},
   "outputs": [
    {
     "data": {
      "text/plain": [
       "float"
      ]
     },
     "execution_count": 22,
     "metadata": {},
     "output_type": "execute_result"
    }
   ],
   "source": [
    "type(number1)"
   ]
  },
  {
   "cell_type": "code",
   "execution_count": 23,
   "id": "83944a3a-70d7-4184-8533-be541967128e",
   "metadata": {},
   "outputs": [
    {
     "data": {
      "text/plain": [
       "float"
      ]
     },
     "execution_count": 23,
     "metadata": {},
     "output_type": "execute_result"
    }
   ],
   "source": [
    "type(number2)"
   ]
  },
  {
   "cell_type": "code",
   "execution_count": 24,
   "id": "701f1085-132f-4dd6-82b3-5dd0688036aa",
   "metadata": {},
   "outputs": [
    {
     "data": {
      "text/plain": [
       "float"
      ]
     },
     "execution_count": 24,
     "metadata": {},
     "output_type": "execute_result"
    }
   ],
   "source": [
    "type(number1)"
   ]
  },
  {
   "cell_type": "code",
   "execution_count": 25,
   "id": "d0c25811-0dfc-4380-8b51-daf7c3db3fbd",
   "metadata": {},
   "outputs": [
    {
     "name": "stdin",
     "output_type": "stream",
     "text": [
      "Please enter a number:  2\n"
     ]
    }
   ],
   "source": [
    "# Reading input from keyboard \n",
    "var = input(\"Please enter a number: \")"
   ]
  },
  {
   "cell_type": "code",
   "execution_count": 26,
   "id": "b7bc058a-0a3f-4c4e-b19b-d1a25704b70e",
   "metadata": {},
   "outputs": [
    {
     "data": {
      "text/plain": [
       "'2'"
      ]
     },
     "execution_count": 26,
     "metadata": {},
     "output_type": "execute_result"
    }
   ],
   "source": [
    "var"
   ]
  },
  {
   "cell_type": "code",
   "execution_count": 27,
   "id": "68d7d399-064d-40ea-9e6d-de9558ebb929",
   "metadata": {},
   "outputs": [
    {
     "name": "stdin",
     "output_type": "stream",
     "text": [
      "Please enter a string:  Computational Physics\n"
     ]
    }
   ],
   "source": [
    "var2 = input(\"Please enter a string: \")"
   ]
  },
  {
   "cell_type": "code",
   "execution_count": 29,
   "id": "25cf80ca-23a1-4df3-a2c3-366e6eed5b16",
   "metadata": {},
   "outputs": [
    {
     "name": "stdout",
     "output_type": "stream",
     "text": [
      "the string you entered was:  Computational Physics\n",
      "the string you entered was: Computational Physics\n"
     ]
    }
   ],
   "source": [
    "print(\"the string you entered was: \", var2)\n",
    "print(\"the string you entered was: %s\" % var2)"
   ]
  },
  {
   "cell_type": "code",
   "execution_count": 30,
   "id": "d17e84b8-ebfd-419e-b952-ae0384e9adb6",
   "metadata": {},
   "outputs": [
    {
     "name": "stdout",
     "output_type": "stream",
     "text": [
      "The number that you wrote was :  2\n"
     ]
    },
    {
     "ename": "TypeError",
     "evalue": "%d format: a number is required, not str",
     "output_type": "error",
     "traceback": [
      "\u001b[0;31m---------------------------------------------------------------------------\u001b[0m",
      "\u001b[0;31mTypeError\u001b[0m                                 Traceback (most recent call last)",
      "Input \u001b[0;32mIn [30]\u001b[0m, in \u001b[0;36m<cell line: 2>\u001b[0;34m()\u001b[0m\n\u001b[1;32m      1\u001b[0m \u001b[38;5;28mprint\u001b[39m(\u001b[38;5;124m\"\u001b[39m\u001b[38;5;124mThe number that you wrote was : \u001b[39m\u001b[38;5;124m\"\u001b[39m, var)\n\u001b[0;32m----> 2\u001b[0m \u001b[38;5;28mprint\u001b[39m(\u001b[38;5;124;43m\"\u001b[39;49m\u001b[38;5;124;43mThe number that you wrote was : \u001b[39;49m\u001b[38;5;132;43;01m%d\u001b[39;49;00m\u001b[38;5;124;43m\"\u001b[39;49m\u001b[43m \u001b[49m\u001b[38;5;241;43m%\u001b[39;49m\u001b[43m \u001b[49m\u001b[43mvar\u001b[49m)\n",
      "\u001b[0;31mTypeError\u001b[0m: %d format: a number is required, not str"
     ]
    }
   ],
   "source": [
    "print(\"The number that you wrote was : \", var)\n",
    "print(\"The number that you wrote was : %d\" % var)"
   ]
  },
  {
   "cell_type": "code",
   "execution_count": 33,
   "id": "a95ed5a8-8a26-4d6f-9985-e67a9df17242",
   "metadata": {},
   "outputs": [],
   "source": [
    "var=int(var)"
   ]
  },
  {
   "cell_type": "code",
   "execution_count": 34,
   "id": "318624e4-a40a-4ef9-a365-0bf28df0a33b",
   "metadata": {},
   "outputs": [
    {
     "name": "stdout",
     "output_type": "stream",
     "text": [
      "The number that you wrote was :  2\n",
      "The number that you wrote was : 2\n"
     ]
    }
   ],
   "source": [
    "print(\"The number that you wrote was : \", var)\n",
    "print(\"The number that you wrote was : %d\" % var)"
   ]
  },
  {
   "cell_type": "markdown",
   "id": "94c81522-f95c-429b-8f8b-ffa1b6aa7089",
   "metadata": {},
   "source": [
    "# Use:\n",
    "\n",
    "1. \\n  for a new line\n",
    "2. \\t  to insert a tab\n",
    "3. %f  for floats"
   ]
  },
  {
   "cell_type": "markdown",
   "id": "b2d354fe-a989-4776-a9a1-97e1fb3a5137",
   "metadata": {},
   "source": [
    "# Working with files\n",
    "\n",
    "Before you open a file decide what you will be doing with it\n",
    "\n",
    "* r read only (default)\n",
    "* w write mode: file will be overwritten if it already exists\n",
    "* a append mode: data will be appended to the existing file\n",
    "\n"
   ]
  },
  {
   "cell_type": "code",
   "execution_count": 71,
   "id": "2576d3fc-bb43-4c18-a912-4a60feaa60e0",
   "metadata": {},
   "outputs": [],
   "source": [
    "# Write\n",
    "my_file = open(\"output_file.txt\",'w')\n",
    "vars = \"This is a string\\n\"\n",
    "my_file.write(vars)\n",
    "var3 = 10\n",
    "my_file.write(\"\\n\")\n",
    "my_file.write(str(var3))\n",
    "var4 = 20.0\n",
    "my_file.write(\"\\n\")\n",
    "my_file.write(str(var4))\n",
    "my_file.close()"
   ]
  },
  {
   "cell_type": "code",
   "execution_count": 75,
   "id": "c7c343ae-dd3a-45c7-87c4-0860be46d83a",
   "metadata": {},
   "outputs": [
    {
     "name": "stdout",
     "output_type": "stream",
     "text": [
      "This is a string\n",
      "\n",
      "10\n",
      "20.0\n"
     ]
    }
   ],
   "source": [
    "#Read \n",
    "my_file = open(\"output_file.txt\",'r')\n",
    "content = my_file.read()\n",
    "print(content)\n",
    "my_file.close()"
   ]
  },
  {
   "cell_type": "code",
   "execution_count": 77,
   "id": "0f8df1c0-e49b-4419-ba75-6b45710dee4f",
   "metadata": {},
   "outputs": [
    {
     "name": "stdout",
     "output_type": "stream",
     "text": [
      "String:  This is a string\n",
      "\n",
      "Integer:  \n",
      "\n",
      "Float:  10\n",
      "\n"
     ]
    }
   ],
   "source": [
    "#Reading it Line By Line\n",
    "\n",
    "my_file = open(\"output_file.txt\",'r')\n",
    "vars = my_file.readline()\n",
    "var5 = my_file.readline()\n",
    "var6 = my_file.readline()\n",
    "print(\"String: \", vars)\n",
    "print(\"Integer: \", var5)\n",
    "print(\"Float: \", var6)\n",
    "my_file.close()\n",
    "\n"
   ]
  },
  {
   "cell_type": "code",
   "execution_count": 78,
   "id": "e27f56f8-6de3-4f32-bfe2-62f3e0d3baf4",
   "metadata": {},
   "outputs": [
    {
     "name": "stdout",
     "output_type": "stream",
     "text": [
      "String:  This is a string\n",
      "\n",
      "Integer:  \n",
      "\n",
      "Float:  10\n",
      "\n"
     ]
    }
   ],
   "source": [
    "#Reading it Line By Line, a bit better format\n",
    "\n",
    "with open(\"output_file.txt\",'r') as f:\n",
    "    vars = f.readline()\n",
    "    var5 = f.readline()\n",
    "    var6 = f.readline()\n",
    "    print(\"String: \", vars)\n",
    "    print(\"Integer: \", var5)\n",
    "    print(\"Float: \", var6)\n",
    "\n"
   ]
  },
  {
   "cell_type": "markdown",
   "id": "c02b4d02-f287-4d9e-897b-ffc85d4ff7a6",
   "metadata": {},
   "source": [
    "# Flow Control \n",
    "\n",
    "\n",
    "## if/else/elif\n",
    "\n",
    "The if/else construction allows you to define conditions in your program \n",
    "\n",
    "    if conditionA:\n",
    "        statementA\n",
    "    elif conditionB:\n",
    "        statementB\n",
    "    else:\n",
    "        statementD\n",
    "    \n",
    "    this line will always be executed (after the if/else)\n",
    "    \n",
    "## Nesting\n",
    "\n",
    "\n",
    "\n",
    "    if condition1:\n",
    "        statement1\n",
    "        if condition2:\n",
    "            statement2\n",
    "        else:\n",
    "            if condition3:\n",
    "                statement3 # when is this statement executed?\n",
    "    else:  # which ‘if’ does this ‘else’ belong to?\n",
    "        statement4  # when is this statement executed?\n",
    "\n",
    "\n",
    "\n",
    "* Conditions are a datatype known as booleans, they can only be true or false"
   ]
  },
  {
   "cell_type": "code",
   "execution_count": 36,
   "id": "8fd1838d-9f88-45fb-8327-c3b1fd5f1c70",
   "metadata": {},
   "outputs": [],
   "source": [
    "a = 2\n",
    "\n",
    "b = 5\n",
    "\n",
    "\n"
   ]
  },
  {
   "cell_type": "code",
   "execution_count": 37,
   "id": "c0530261-0da8-408c-a3af-213e326afbf8",
   "metadata": {},
   "outputs": [
    {
     "data": {
      "text/plain": [
       "False"
      ]
     },
     "execution_count": 37,
     "metadata": {},
     "output_type": "execute_result"
    }
   ],
   "source": [
    "a>b\n",
    "\n",
    "a<b\n",
    "\n",
    "a == b\n",
    "\n",
    "a != b\n",
    "\n",
    "b>a or a==b\n",
    "\n",
    "b>a and a==b"
   ]
  },
  {
   "cell_type": "code",
   "execution_count": 38,
   "id": "a698c238-0aed-4f47-be63-7dd27a76f624",
   "metadata": {},
   "outputs": [
    {
     "name": "stdout",
     "output_type": "stream",
     "text": [
      "you entered a number less than 10\n"
     ]
    }
   ],
   "source": [
    "var7 = int(var)\n",
    "if var7>10:\n",
    "    print(\"You entered a number greater than 10\")\n",
    "else:\n",
    "    print(\"you entered a number less than 10\")"
   ]
  },
  {
   "cell_type": "markdown",
   "id": "20da23de-7412-4322-b4bd-2bde3ade16ad",
   "metadata": {},
   "source": [
    "## Loops "
   ]
  },
  {
   "cell_type": "code",
   "execution_count": null,
   "id": "d63ceda4-1644-4e27-a24f-9f5a92c9cd78",
   "metadata": {},
   "outputs": [],
   "source": [
    "for x in range(0, 3):\n",
    "    print(\"Let's go %d\" % (x))"
   ]
  },
  {
   "cell_type": "code",
   "execution_count": null,
   "id": "54c14677-3512-45a8-bb54-fa73fc0f5a8e",
   "metadata": {},
   "outputs": [],
   "source": [
    "for x in range(0, 3):\n",
    "    for y in range(0,5):\n",
    "       print(\"Let's go %d %d\" % (x,y))"
   ]
  },
  {
   "cell_type": "code",
   "execution_count": null,
   "id": "13c80bf4-7964-4c94-bf56-f266ad23aa35",
   "metadata": {},
   "outputs": [],
   "source": [
    "i = 0    # Initialization\n",
    "while (i < 10):    # Condition\n",
    "    print(i)    # do_something\n",
    "    i = i + 1 # Why do we need this?"
   ]
  },
  {
   "cell_type": "markdown",
   "id": "d81da295-2e5e-498e-8107-dd1c43cc1319",
   "metadata": {},
   "source": [
    "## Lists"
   ]
  },
  {
   "cell_type": "code",
   "execution_count": 41,
   "id": "788d0084-0b32-4fa0-bb7c-997c5450ef54",
   "metadata": {},
   "outputs": [
    {
     "name": "stdout",
     "output_type": "stream",
     "text": [
      "first item second item\n",
      "1\n",
      "['first', 'second', 3]\n",
      "first second 3\n",
      "4\n"
     ]
    }
   ],
   "source": [
    "mylist1 = ['first item', 'second item']\n",
    "mylist2 = [1, 2, 3, 4]\n",
    "mylist3 = ['first', 'second', 3]\n",
    "print(mylist1[0], mylist1[1])\n",
    "print(mylist2[0])\n",
    "print(mylist3)\n",
    "print(mylist3[0], mylist3[1], mylist3[2])\n",
    "print(mylist2[0] + mylist3[2])"
   ]
  },
  {
   "cell_type": "code",
   "execution_count": 42,
   "id": "67b6dacd-cf9c-4321-911b-2192ca098fb4",
   "metadata": {},
   "outputs": [
    {
     "ename": "IndentationError",
     "evalue": "unexpected indent (1996034610.py, line 2)",
     "output_type": "error",
     "traceback": [
      "\u001b[0;36m  Input \u001b[0;32mIn [42]\u001b[0;36m\u001b[0m\n\u001b[0;31m    print(mylist3[0:3])\u001b[0m\n\u001b[0m    ^\u001b[0m\n\u001b[0;31mIndentationError\u001b[0m\u001b[0;31m:\u001b[0m unexpected indent\n"
     ]
    }
   ],
   "source": [
    "# Extrcat subset (some say slice data)\n",
    " print(mylist3[0:3])\n",
    "  print(mylist3)"
   ]
  },
  {
   "cell_type": "code",
   "execution_count": 43,
   "id": "3d648598-aca5-49e2-8136-c11a57f45712",
   "metadata": {},
   "outputs": [
    {
     "name": "stdout",
     "output_type": "stream",
     "text": [
      "[10, 'second', 3]\n"
     ]
    }
   ],
   "source": [
    "# Change values\n",
    "mylist3[0] = 10\n",
    "print(mylist3)"
   ]
  },
  {
   "cell_type": "code",
   "execution_count": 44,
   "id": "cd73f0a6-05bb-4395-8996-893bea614d60",
   "metadata": {},
   "outputs": [
    {
     "data": {
      "text/plain": [
       "4"
      ]
     },
     "execution_count": 44,
     "metadata": {},
     "output_type": "execute_result"
    }
   ],
   "source": [
    "#Determine properties, e.g., number of elements\n",
    "len(mylist2)"
   ]
  },
  {
   "cell_type": "code",
   "execution_count": 45,
   "id": "48769243-ad18-4865-b6d9-829a306ac4b2",
   "metadata": {},
   "outputs": [
    {
     "data": {
      "text/plain": [
       "True"
      ]
     },
     "execution_count": 45,
     "metadata": {},
     "output_type": "execute_result"
    }
   ],
   "source": [
    "#What does this do?\n",
    "1 in mylist2"
   ]
  },
  {
   "cell_type": "code",
   "execution_count": null,
   "id": "cf924a66-500b-43fb-a7ec-0780cd59bb23",
   "metadata": {},
   "outputs": [],
   "source": [
    "# Delete an element\n",
    "len(mylist2)\n",
    "del(mylist2[0])\n",
    "print(mylist2)"
   ]
  },
  {
   "cell_type": "code",
   "execution_count": null,
   "id": "7f321d6c-42c9-4e91-a7c8-3e6bacd9a585",
   "metadata": {},
   "outputs": [],
   "source": [
    "#iterate over elements, is there anythign surprising here?\n",
    "for x in mylist2:\n",
    "        print(x)"
   ]
  },
  {
   "cell_type": "code",
   "execution_count": 48,
   "id": "7257bed5-73e2-4a16-8dc0-3c4b9f5b60fc",
   "metadata": {},
   "outputs": [
    {
     "data": {
      "text/plain": [
       "3"
      ]
     },
     "execution_count": 48,
     "metadata": {},
     "output_type": "execute_result"
    }
   ],
   "source": [
    "# Other things you can do with lists\n",
    "max(mylist2)\n",
    "min(mylist2) \n",
    "mylist2.append(1)  # this is important and frequently used\n",
    "mylist2.index(3)\n",
    "mylist2.count(1)"
   ]
  },
  {
   "cell_type": "markdown",
   "id": "841aa972-3a51-43fa-9650-84f51448968b",
   "metadata": {},
   "source": [
    "# Numpy\n",
    "\n",
    "## Numerical python library\n",
    "\n",
    "Provides mathematical functions and powerful data structures beyond what was discussed above"
   ]
  },
  {
   "cell_type": "markdown",
   "id": "8dc4e161-0e2c-4104-9635-b45e8cb912b2",
   "metadata": {},
   "source": [
    "# Before using function from any library you need to import them\n",
    "## Importing all libraries if usually done in a separate cell at the beginning of your notebook (good style) but it does not have to be this way. "
   ]
  },
  {
   "cell_type": "code",
   "execution_count": 50,
   "id": "b64d4a0f-7c88-4d14-9bd1-65850db39b2e",
   "metadata": {},
   "outputs": [],
   "source": [
    "import numpy as np"
   ]
  },
  {
   "cell_type": "code",
   "execution_count": 51,
   "id": "3c92608f-7b7c-4812-b56c-3dde82c103b0",
   "metadata": {},
   "outputs": [
    {
     "name": "stdout",
     "output_type": "stream",
     "text": [
      "[25.3 24.8 26.9 23.9]\n"
     ]
    }
   ],
   "source": [
    "#make a numpy array from a list\n",
    "cvalues = [25.3, 24.8, 26.9, 23.9]\n",
    "C = np.array(cvalues)\n",
    "print(C)"
   ]
  },
  {
   "cell_type": "code",
   "execution_count": 52,
   "id": "84c2c80d-dda2-46dd-a76e-0c590000dd3f",
   "metadata": {},
   "outputs": [
    {
     "name": "stdout",
     "output_type": "stream",
     "text": [
      "[77.54 76.64 80.42 75.02]\n",
      "[77.54, 76.64, 80.42, 75.02]\n"
     ]
    }
   ],
   "source": [
    "#Compare and think about the differences for a while\n",
    "print(C * 9 / 5 + 32)\n",
    "fvalues = [ x*9/5 + 32 for x in cvalues] \n",
    "print(fvalues)"
   ]
  },
  {
   "cell_type": "code",
   "execution_count": null,
   "id": "b6e08347-6b79-4429-9d86-9e2c6d0b5c06",
   "metadata": {},
   "outputs": [],
   "source": [
    "# writing functions in python \n",
    "# What do they do? Compare and think about it for a while. What is \"time\" used for?\n",
    "import time\n",
    "size_of_vec = 1000\n",
    "def pure_python_version():\n",
    "    t1 = time.time()\n",
    "    X = range(size_of_vec)\n",
    "    Y = range(size_of_vec)\n",
    "    Z = []\n",
    "    for i in range(len(X)):\n",
    "        Z.append(X[i] + Y[i])\n",
    "    return time.time() - t1\n",
    "\n",
    "def numpy_version():\n",
    "    t1 = time.time()\n",
    "    X = np.arange(size_of_vec)\n",
    "    Y = np.arange(size_of_vec)\n",
    "    Z = X + Y\n",
    "    return time.time() - t1\n",
    "\n",
    "t1 = pure_python_version()\n",
    "t2 = numpy_version()\n",
    "print(t1, t2)"
   ]
  },
  {
   "cell_type": "code",
   "execution_count": null,
   "id": "3db51591-d908-4f18-bbcd-1c8655a13bb5",
   "metadata": {},
   "outputs": [],
   "source": [
    "#Working with multidimentional arrays\n",
    "A = np.array([ [3.4, 8.7, 9.9], \n",
    "               [1.1, -7.8, -0.7],\n",
    "               [4.1, 12.3, 4.8]])\n",
    "print(A)\n",
    "print(A.ndim)\n",
    "\n",
    "\n",
    "\n",
    "B = np.array([ [[111, 112], [121, 122]],\n",
    "               [[211, 212], [221, 222]],\n",
    "               [[311, 312], [321, 322]] ])\n",
    "print(B)\n",
    "print(B.ndim)"
   ]
  },
  {
   "cell_type": "code",
   "execution_count": null,
   "id": "09768635-ecca-4e98-86c1-63647a182cf6",
   "metadata": {},
   "outputs": [],
   "source": [
    "#Re-shaping arrays\n",
    "x = np.array([ [67, 63, 87],\n",
    "               [77, 69, 59],\n",
    "               [85, 87, 99],\n",
    "               [79, 72, 71],\n",
    "               [63, 89, 93],\n",
    "               [68, 92, 78]])\n",
    "print(np.shape(x))\n",
    "\n",
    "#we can also, change the shape\n",
    "\n",
    "x.shape = (3, 6)\n",
    "print(x)\n",
    "\n",
    "x.shape = (2, 9)\n",
    "print(x)\n",
    "\n",
    "#A few more examples\n",
    "\n",
    "x = np.array(42)\n",
    "print(np.shape(x))\n",
    "\n",
    "B = np.array([ [[111, 112], [121, 122]],\n",
    "               [[211, 212], [221, 222]],\n",
    "               [[311, 312], [321, 322]] ])\n",
    "print(B.shape)\n",
    "\n"
   ]
  },
  {
   "cell_type": "code",
   "execution_count": null,
   "id": "35a514fa-3e1c-408b-9a44-98618d992423",
   "metadata": {},
   "outputs": [],
   "source": [
    "#Indexing  arrays\n",
    "\n",
    "F = np.array([1, 1, 2, 3, 5, 8, 13, 21])\n",
    "\n",
    "\n",
    "# print the first element of F, i.e. the element with the index 0\n",
    "print(F[0])\n",
    "\n",
    "\n",
    "# \"print \"the last element of F\n",
    "print(F[-1])\n",
    "\n",
    "B = np.array([ [[111, 112], [121, 122]],\n",
    "               [[211, 212], [221, 222]],\n",
    "               [[311, 312], [321, 322]] ])\n",
    "print(B[0][1][0])"
   ]
  },
  {
   "cell_type": "code",
   "execution_count": null,
   "id": "339c2229-6dc3-4bc5-9849-9dbac6df8412",
   "metadata": {},
   "outputs": [],
   "source": [
    "#Slicing arrays\n",
    "A = np.array([\n",
    "[11,12,13,14,15],\n",
    "[21,22,23,24,25],\n",
    "[31,32,33,34,35],\n",
    "[41,42,43,44,45],\n",
    "[51,52,53,54,55]])\n",
    "\n",
    "print(A[:3,2:])\n",
    "\n",
    "print(A[3:,:])"
   ]
  },
  {
   "cell_type": "markdown",
   "id": "b2b52c3d-bd79-40ec-bffe-84602ed02b16",
   "metadata": {},
   "source": [
    "## Plotting: Matplotlib library"
   ]
  },
  {
   "cell_type": "code",
   "execution_count": 54,
   "id": "63cb8e81-ba5d-4ffd-8404-7f869a79c0bb",
   "metadata": {},
   "outputs": [],
   "source": [
    "# Plot a sine wave"
   ]
  },
  {
   "cell_type": "code",
   "execution_count": 55,
   "id": "e088a1b4-f835-4ad0-ade6-7253cb56844f",
   "metadata": {},
   "outputs": [],
   "source": [
    "%matplotlib inline\n",
    "import matplotlib.pyplot as plt\n",
    "import numpy as np"
   ]
  },
  {
   "cell_type": "code",
   "execution_count": 56,
   "id": "9573c94d-3feb-46c7-91b9-662642b0e89b",
   "metadata": {},
   "outputs": [
    {
     "data": {
      "image/png": "[encoded data removed]",
      "text/plain": [
       "<Figure size 432x288 with 1 Axes>"
      ]
     },
     "metadata": {
      "needs_background": "light"
     },
     "output_type": "display_data"
    }
   ],
   "source": [
    "x = np.linspace(0, 2 * np.pi, 50)\n",
    "plt.plot(x, np.sin(x)) \n",
    "plt.show() # Show the graph."
   ]
  },
  {
   "cell_type": "code",
   "execution_count": 57,
   "id": "bd20612d-f5b2-4150-b335-09c91516c591",
   "metadata": {},
   "outputs": [
    {
     "data": {
      "image/png": "[encoded data removed]",
      "text/plain": [
       "<Figure size 432x288 with 1 Axes>"
      ]
     },
     "metadata": {
      "needs_background": "light"
     },
     "output_type": "display_data"
    }
   ],
   "source": [
    "plt.plot(x, np.sin(x), x, np.sin(2 * x))\n",
    "plt.show()"
   ]
  },
  {
   "cell_type": "code",
   "execution_count": 58,
   "id": "87a19b10-9263-4374-bb95-0e9db4b7bdcd",
   "metadata": {},
   "outputs": [
    {
     "data": {
      "image/png": "[encoded data removed]",
      "text/plain": [
       "<Figure size 432x288 with 1 Axes>"
      ]
     },
     "metadata": {
      "needs_background": "light"
     },
     "output_type": "display_data"
    }
   ],
   "source": [
    "plt.plot(x, np.sin(x), 'r-o', x, np.cos(x), 'g--')\n",
    "plt.show()"
   ]
  },
  {
   "cell_type": "markdown",
   "id": "24041142-68b0-4498-8854-af03644dc00a",
   "metadata": {},
   "source": [
    "# Colors\n",
    "\n",
    "* Blue – ‘b’\n",
    "* Green – ‘g’\n",
    "* Red – ‘r’\n",
    "* Cyan – ‘c’\n",
    "* Magenta – ‘m’\n",
    "* Yellow – ‘y’\n",
    "* Black – ‘k’ (‘b’ is taken by blue so the last letter is used)\n",
    "* White  – ‘w’\n"
   ]
  },
  {
   "cell_type": "markdown",
   "id": "5b42ac1b-4851-44e5-80fc-667fa14ff618",
   "metadata": {},
   "source": [
    "# Line types\n",
    "\n",
    "* Solid Line – ‘-‘\n",
    "* Dashed – ‘–‘\n",
    "* Dotted – ‘.’\n",
    "* Dash-dotted – ‘-:’"
   ]
  },
  {
   "cell_type": "markdown",
   "id": "9ea0ddff-94b6-49c7-bb48-f3b9e5af4d33",
   "metadata": {},
   "source": [
    "# markers\n",
    "\n",
    "* Point – ‘.’\n",
    "* Pixel – ‘,’\n",
    "* Circle – ‘o’\n",
    "* Square – ‘s’\n",
    "* Triangle – ‘^’"
   ]
  },
  {
   "cell_type": "markdown",
   "id": "c8629988-910d-47fa-aae8-d41330d776d3",
   "metadata": {},
   "source": [
    "# Subplots"
   ]
  },
  {
   "cell_type": "code",
   "execution_count": 59,
   "id": "d43a3680-2fcf-45d8-a863-0da1dd4e0574",
   "metadata": {},
   "outputs": [
    {
     "data": {
      "image/png": "[encoded data removed]",
      "text/plain": [
       "<Figure size 432x288 with 2 Axes>"
      ]
     },
     "metadata": {
      "needs_background": "light"
     },
     "output_type": "display_data"
    }
   ],
   "source": [
    "#Think of the subplots as “tables”, each subplot is set with the number of rows,\n",
    "#the number of columns, and the active area, the active areas are numbered left\n",
    "#to right, then up to down.\n",
    "\n",
    "plt.subplot(2, 1, 1) # (row, column, active area)\n",
    "plt.plot(x, np.sin(x), 'r')\n",
    "plt.subplot(2, 1, 2)\n",
    "plt.plot(x, np.cos(x), 'g')\n",
    "plt.show()"
   ]
  },
  {
   "cell_type": "code",
   "execution_count": 60,
   "id": "a22cfedd-ba53-4775-96dd-b8f6442035ba",
   "metadata": {},
   "outputs": [
    {
     "data": {
      "image/png": "[encoded data removed]",
      "text/plain": [
       "<Figure size 432x288 with 1 Axes>"
      ]
     },
     "metadata": {
      "needs_background": "light"
     },
     "output_type": "display_data"
    }
   ],
   "source": [
    "# Scatter plots\n",
    "y = np.sin(x)\n",
    "plt.scatter(x,y)\n",
    "plt.show()"
   ]
  },
  {
   "cell_type": "code",
   "execution_count": 61,
   "id": "73d0c480-0ed5-4e84-9122-1d1556aacefb",
   "metadata": {},
   "outputs": [
    {
     "data": {
      "image/png": "[encoded data removed]",
      "text/plain": [
       "<Figure size 432x288 with 2 Axes>"
      ]
     },
     "metadata": {
      "needs_background": "light"
     },
     "output_type": "display_data"
    }
   ],
   "source": [
    "# Now with color\n",
    "x = np.random.rand(1000)\n",
    "y = np.random.rand(1000)\n",
    "size = np.random.rand(1000) * 50\n",
    "color = np.random.rand(1000)\n",
    "plt.scatter(x, y, size, color)\n",
    "plt.colorbar()\n",
    "plt.show()"
   ]
  },
  {
   "cell_type": "code",
   "execution_count": 62,
   "id": "92f26142-eea8-48f1-8140-07b4e2db1a0b",
   "metadata": {},
   "outputs": [
    {
     "data": {
      "image/png": "[encoded data removed]",
      "text/plain": [
       "<Figure size 432x288 with 1 Axes>"
      ]
     },
     "metadata": {
      "needs_background": "light"
     },
     "output_type": "display_data"
    }
   ],
   "source": [
    "# Histograms\n",
    "# the second argument is the number of bins to use\n",
    "plt.hist(x, 50)\n",
    "plt.show()"
   ]
  },
  {
   "cell_type": "code",
   "execution_count": 63,
   "id": "cd407f15-e66a-4fc1-add0-e66a2a604753",
   "metadata": {},
   "outputs": [
    {
     "data": {
      "image/png": "[encoded data removed]",
      "text/plain": [
       "<Figure size 432x288 with 1 Axes>"
      ]
     },
     "metadata": {
      "needs_background": "light"
     },
     "output_type": "display_data"
    }
   ],
   "source": [
    "#Labls and legends\n",
    "\n",
    "x = np.linspace(0, 2 * np.pi, 50)\n",
    "plt.plot(x, np.sin(x), 'r-x', label='Sin(x)')\n",
    "plt.plot(x, np.cos(x), 'g-^', label='Cos(x)')\n",
    "plt.legend() # Display the legend.\n",
    "plt.xlabel('Rads') # Add a label to the x-axis.\n",
    "plt.ylabel('Amplitude') # Add a label to the y-axis.\n",
    "plt.title('Sin and Cos Waves') # Add a graph title.\n",
    "plt.show()"
   ]
  },
  {
   "cell_type": "code",
   "execution_count": 70,
   "id": "86e7edcb-0c8e-4166-acca-0207af6a60c9",
   "metadata": {},
   "outputs": [
    {
     "data": {
      "text/html": [
       "<video width=\"432\" height=\"288\" controls autoplay loop>\n",
       "  <source type=\"video/mp4\" src=\"data:video/mp4;base64,AAAAIGZ0eXBNNFYgAAACAE00ViBpc29taXNvMmF2YzEAAAAIZnJlZQAAYIVtZGF0AAACrgYF//+q\n",
       "3EXpvebZSLeWLNgg2SPu73gyNjQgLSBjb3JlIDE2NCByMzA5NSBiYWVlNDAwIC0gSC4yNjQvTVBF\n",
       "Ry00IEFWQyBjb2RlYyAtIENvcHlsZWZ0IDIwMDMtMjAyMiAtIGh0dHA6Ly93d3cudmlkZW9sYW4u\n",
       "b3JnL3gyNjQuaHRtbCAtIG9wdGlvbnM6IGNhYmFjPTEgcmVmPTMgZGVibG9jaz0xOjA6MCBhbmFs\n",
       "eXNlPTB4MzoweDExMyBtZT1oZXggc3VibWU9NyBwc3k9MSBwc3lfcmQ9MS4wMDowLjAwIG1peGVk\n",
       "X3JlZj0xIG1lX3JhbmdlPTE2IGNocm9tYV9tZT0xIHRyZWxsaXM9MSA4eDhkY3Q9MSBjcW09MCBk\n",
       "ZWFkem9uZT0yMSwxMSBmYXN0X3Bza2lwPTEgY2hyb21hX3FwX29mZnNldD0tMiB0aHJlYWRzPTkg\n",
       "bG9va2FoZWFkX3RocmVhZHM9MSBzbGljZWRfdGhyZWFkcz0wIG5yPTAgZGVjaW1hdGU9MSBpbnRl\n",
       "cmxhY2VkPTAgYmx1cmF5X2NvbXBhdD0wIGNvbnN0cmFpbmVkX2ludHJhPTAgYmZyYW1lcz0zIGJf\n",
       "cHlyYW1pZD0yIGJfYWRhcHQ9MSBiX2JpYXM9MCBkaXJlY3Q9MSB3ZWlnaHRiPTEgb3Blbl9nb3A9\n",
       "MCB3ZWlnaHRwPTIga2V5aW50PTI1MCBrZXlpbnRfbWluPTI1IHNjZW5lY3V0PTQwIGludHJhX3Jl\n",
       "ZnJlc2g9MCByY19sb29rYWhlYWQ9NDAgcmM9Y3JmIG1idHJlZT0xIGNyZj0yMy4wIHFjb21wPTAu\n",
       "NjAgcXBtaW49MCBxcG1heD02OSBxcHN0ZXA9NCBpcF9yYXRpbz0xLjQwIGFxPTE6MS4wMACAAAAT\n",
       "WmWIhAAv//72rvzLK0cLlS4dWXuzUfLoSXL9iDB9aAAAAwAA1WshfKKNi/EA02H8HdAn7FBRtPUN\n",
       "JqczFmBxMBRvLmdLhGqNKQ6bvrcrwOGsFcloCkVMItyhp18FcAAFYewGqWmy5/qP63HkNwkqwlqR\n",
       "5k5KC+ALHce7gLSTO8ksS2La4NHlK+j3WfSS+z9Ukly3n0Hx/889m7RoAdI27fJCD7NWYKDO0VrG\n",
       "083SuR8mYV4qnBzOEhmF4Hc7+y4N5dl7ooCsuBVTJTwr6fTAAL+N61W7l43qosbir2wm7VAa2Tf1\n",
       "/3O9T84UN5/Y/Y4VRXoyM9F4tIn1Xu59l+/e3Unrfp0JfP0mUBPowmgBq7wFv6vBoEM5xATzhg1S\n",
       "amdji1p6BSDVcxHkgG7/NgnxpKsJfTEUx9F/trTieIoL57Q1mH5JgAAAAwPXZvH789V3ukWx9n5o\n",
       "2TmhAvTK9SThNrDIh4KHmcDHECl1DxSOKuG1jnas8ILf/fO6dAACw3+oBMdtbegh7IGZgE+cr/no\n",
       "xoDSKdMsTv2aWD7Uwc8QPbnqzO5n7f9ki3/c2nFtxvCm4AYh0JsOZGVnJOU8uN5EpvhdN92FSYyf\n",
       "DhxfgS+/3pim2gpOzYgQsLilzYseg/uJaNuAENwAAkppMP30OAnXDV0ZFtpGEZ+WG8zfX2AASteH\n",
       "0Kv6xBq3FEMWfCuFoO6MGLASdWRoK3Y38yi7ExVI2oYjVSDBK5rnwioT16xWr/z6iN2JcQ4Vd0ZU\n",
       "mw8j77mfon6kX8+uvbzxIvovPXKBqMbEsombUwfjJEJMjXI2Y1z/xRGlQYnRbPuC0/JMvEqUzYYZ\n",
       "cx2/BrBP0283edte5gpXK5HZtPbew45wSudR9y8EJKX2mN3xAw7YWGe/eBluS0witnIPtWx2jLyp\n",
       "ky0MUK3lq1uyRSl29fX/WfOiJmmfXCN+tvGdDzh9zC/yaMyTkq1NlqxuXx9+E2BNxPw3ATIi9MtI\n",
       "O+fe4xz4/I8+QEnnxABNoYA5/kIqRDtzSE2m1yEH1QxPM9dxbEvJuNUzwqPtL5+bt/Vowtf6ertn\n",
       "p9Ao/kaFiJKz+WP9pizgje80sjI1YGyB8gYdx9jmWB0r4ArSgyHDjcY9fG9PiUieK06NHxuyF1ls\n",
       "Ym1Dhmmz3pK/kWPGQloStsMm5t8mqq4ucMExa0BOFysbxWuVPA21CDq1FHqSIkfPa35lzxVz0qxM\n",
       "P0KY1Y43FMfyYCo7TH+QB5eJlKT0UpRYPyl2rfbYTPPygVxY/FyLqH1snDgCkM9MahS1bf0T3yaY\n",
       "MCac9mjsF3dj5ErX50DKas9iZD6K/d7L6uKlCczQ0bboIEq6z1MI4e7qF520mfo11ph+l5Rs6lGx\n",
       "AgRiAhI4xp6gdPGbGQu1RXt6mEOH/0wqADxBh557vMFv62GwXBmbcBvEjqXlEHXxTrwPt+n+jjSB\n",
       "i2dVKb1yEvhbyTFSdd5MFoXbOl+RtolJcCraxo/ngAbwLCrlid6X+aSZg5vZvdetoG8YmqY15pZ4\n",
       "gb/oM6uapxSZYD5b8KNImnuNC9XrcFHL3k93iX3SodeNfzrg6PjdtNZowkDWwA5g3bHkMcR9SEPe\n",
       "UoUQ9DvdzFl5hHK6lI3fy5xO+zWrgKOhXaauXbE9FmfEwZdDAdonANMMVYYcNyrfeYKeE4z+UQq2\n",
       "Fp3//JO9oZ+vsXjuxbcyJ/eH02B32J5lz3sMh9zIW2QJmR3xAqH4z0vBBqFIArsIpdsgiKS+NM4Q\n",
       "crV+BcpZn0YjqfqPGrkmqTztUg6F+rLgI7LfamPQZRrQ6LIGfmcjIJmQzgsQiISq61kGNF+zWaKo\n",
       "fIE5DtQEgSPFhbtGLUvg/fXAAJ+5NuG1plo7/mvMf7XrxCEgReOX9mzp18a6f6ZYG44UqwreJCuN\n",
       "GROStasSvgCnxGotY///8xAOlmPwBvI4z2jTYTQzjEpiWCxd4voGo2XRd8xxrswWbXmxK9jNlMAl\n",
       "2eZpGIchwb2vvSzJr4Sr6opkYawNrGtPPOdE6mOSGViyVDubDc/uI0cFsajxveWHCKLRoNjYNGSw\n",
       "OzVb0PXoRH1slqHCLFm+4KTPmmN5kWLJ0M84DgZB70sFA+O1TnQKS28QjWVBfz1in8nsWpS+EpkC\n",
       "oWncnl1K4VBgCaO3ObQTbggRWcf7Qs/HFmIc8feKZmlk8+76X/ejjZybpep+DI9xdGScgivKV58b\n",
       "nr5z61Jr5RvEuh5z0CjsdlD9ad8bgxdcuQBFh6lmajbPZqrT5zd64r1e/v/7u0zGNy/0B5ouT01h\n",
       "0jtBjMMvCrZ21AZHYALA3vJVjNqlb1Er74fmfcadWuke6pPldiJnhVJE+afKYq5cxXyaXzbp5eVG\n",
       "MQlo6l2YYUXdiatNsYL+IU7yrfjI8m7qABoWg0AqTjaBxf88oWhyik6u5uFKuUh+WbZs7Oi6tuow\n",
       "Y+zcSGVkGTv4R45PZAZB2CXeiN7TZgCpfmLTTob8FaphBPj7FGwSGOUmvSdY2s8MaUAzizwIIGym\n",
       "kCfnhVPnxpvya+NlfDwqd5z3wPXw3GNgrLs5oJ0CHuPTQydw8PiVVxHpxPz9y/tWcULq/pwVyg0j\n",
       "+35PsMdXNlIQOeVJxFq1yn2qvA88R6uJ88fUZ4FkGZucK/BFt2yL6XdO271+0CN/okkyKM4kIoyP\n",
       "wVoErEjUwZ9xTAYz6TZi8f+BLlsYlWpclYU7pYo+BtJ4Gn6vBAQ0vNmRDM+UJfTo0yLMMOEYHT2i\n",
       "dROvhxICY22Eb3jC678xZoSujlZdcmcg/AYMUNOU2P4Ne2RlekPauj9///dE5f11D5PeSfuH1E83\n",
       "akBMFAnVgKh8FvvuggKDZeGXOnbb4vpYkwwGoC7rdiWp+788a9djxiusUv+O+o9844PJp1VUsA65\n",
       "FENr0SL476+TIhM6gYHlhQ0fYBQq2gynU9NThNz3NGKIgzJ2qDN6BC9uj9O0tF7iVx+lq6knIbEV\n",
       "/cflX6NUjAM6ZA1bRoxNvmtb4eR3kgH606fquDU1k0VIcQfvYYVNlU6972CIIN3qqv7KPQmDJkR1\n",
       "RwD4Gts3si6l0ho86O3/miyc/AD5a8xSZcTIQycLS6ZZpM8RsXFWWDss2x9AiY+eIZNcjD/3S6Xe\n",
       "wo4A6nE/LEY6m0oxCSEw4ABU000PKIe0nrYlUdq5dRHM9E/035dGl/QZVogiR0b/+qsOChMRQE3W\n",
       "0sO4IgiYt5lcokz97Nd5PLP9kOmI2AN2cG/OM1G1upLhAckc1vuJcNqkQ1TgutL/qsaZKwTSz6mN\n",
       "XNVJDzKb9n9OlszORvP+5eorPD6Cv7GpxHYVpefxxwWoaxqs/u/L9Ni8RzRXNZFjlZ++LAGPTwy2\n",
       "aLQrfZkPzmbny6T7jACwnLhFpVd8gS11JoRaZJzmnBsNchxZjeKBo/Q3zk/AoXisOCqqrkREYzxT\n",
       "UNzZLTH/lIA6fsPSIRDiDkvi3Mjz9bDjcBlrQlcVj10aS95TlCE2Zh2v5I0U0fpaZCKSxmuguaq1\n",
       "mKIBQfowy4gOGcw1acFfgFKxGXDzgPU+c79JqG/npGe2qh3qrxAhKr2hfcpzDr9NQemRyhjXLUo6\n",
       "X4cd1ZsaAXiHU/Ov/POH1pbgD/2Z0b////HPbAZZK8wtLXLlcmrYDdS0cxhSdQ5wkRskYPIAqSOm\n",
       "NGykhI1LlgOJDM4TfUN7Tci0KGRLk3KgpS8XzzF/rSTjcsd+ULnpkje4AHT8D4KbwZoMsbRTUF0H\n",
       "Su/pWhxoyNVZgyaHzXMHNkGCHDA2Qd8PY20GB1oPCej0z9kk+lXGi4XcjG5jBlsLk+mOXyam5nlR\n",
       "vxZq0/quK5vbXRiZ6Ox+0Wt2vZP5Z2XYYk/PvGMTFzelDnvFLuH/OTiuPhIngqXQGY6v55O9QCJz\n",
       "l+RecBBHZM9/tupGQpNw8XjDHyrpblJhMG0AoRq/gOuCvzSnLzJkYkr6yOHTOdXawHFBIJCoBZOp\n",
       "6hamNZiBL/LjXGXpGKzCt7bwT3Zdxx1Q7tVkLilVwrARsBIh8TeZBCNWjuo0eKjoSHLr/dUWf+LH\n",
       "t2wJtFFUkbh2VkjxqD0vD29oPvvgeNd2zS+oov8v/tvhh1Zmwe5LNu+r9WIPlb/CmuHAd/iaI9Ju\n",
       "ZCAWJPFpqe4mGiEPOVeqcwUFUsecbQIVnLG7PR3KpZgSuWwwjq5UumQVqnWskgP7XwDoc+WJBvNC\n",
       "6HpXDRuuDLK7X2+sOGcnDs0XqVHk7UyWM9jawzRYGeEZDmcI1wGPQFtME1ZmBONThHfFZO4/ew5O\n",
       "Odvh2JOwJ/6WpO7GDuKaLjMCoaUUsiljGHwimHUX/Ax3f5+w00wTjfmSsK59UdHvLP0KCuHTHImE\n",
       "Uq7B+BX2hFcKD3gXH9rAI+Ec4LQaExYnVXyozNVFX1NYYELWniqRDUl/1H5dDbM5vzRuFXuFQai6\n",
       "F/8hfmnW7d8N5IAeEvHPivfKOd/VZvPsEXdQEGSnZk7xvcesbApQSpHBeU8t+D5nvoudvVqL6vyP\n",
       "P4KMKy4x93B7joXJp+mpjFoAsCNtZJvuuGHXmboQnPQBqWiqIh8eYtZehbw0E3wh4TJMa+IO+KAR\n",
       "zBh1mAKKPvxIOGXOnBvYnh6ifX4ReyG5s7asrHFVh9ajIQ8unpbjaSPufYryK2axrSt9Ip82nJct\n",
       "17ygSLEagHXorouhaxNugFNoa2MEWbTqeZIgka/r29C6iqinDtVQAKasZU+2cjNkzCBnMOfx1Gv5\n",
       "SILV4js04VuxIW25sF6LyRWNuBpWr4mavoeDuOEiwSj901+ogkofpT94mRA9rJGjVVY7bVIdziQ4\n",
       "2mWLjVJdd9g2eGsSSC9dy2w6gq0NQ+jov44SFwh38hOVdGMSukd1Br4TtZet+KXkTAralltw3rmG\n",
       "1c49cELlKp3J/QMMwbaaJDLRuyPcYROjY/tItCoJQ5mzxauk/HKZRIorUUJeEm0eXNwxSAKHpW3C\n",
       "CVlOZcS4Yk2pdZnibH5PRnbqyH7uMKwASTWsWgrizC0BR1Kc9qfLZATEcbu3gdzogl603lNH+yTb\n",
       "R4MT4gbsvc3zNezpivCv9NxhOkLxjUseXO5XhZs/YasEiF6iX90+OKsyc5+uA4QBsg3qhJM7apY5\n",
       "kdUB582H6ye+5BzReLl2G6hWvEoCljTpxVRo7T3ERsGKg6wdaFR07/NSvM3ZqDOi5L/5qiGM3bny\n",
       "gFvdnApQ3CoDaKtAjDbhjxuNZ16Z27Zz43+4QUgYDuN5b+37vF68HKaAnyk9KuUVvBRottiYR2iv\n",
       "D+i2VDf3qEbg0FQXXUe+iNFZdecUeWKpkeKpIs5EC5pPLVXRM4Q/XYK2X0xJhlKn6pZxQgbmWyFN\n",
       "JPhxELelBA4OaIVJT/te2Zg1XOLW+dIIV1C4LK0ZopzsD2k8gZ03UIaTeQoyfzxrF5ykJvxrJgDg\n",
       "JVmLAGZLuzYq5jrDcDgFUqGdQHH/VQflWqhlkfFq82xtKp8DxV8aMcISh5ZEv7grC6lZaYWeo3X2\n",
       "UiqlN8UgogEtVwOGZ4OwFckueUuNPd+y5rNjdTxV4iyDvM/dor6A2q6D8RAbO6VUUf8BS7XjuTfX\n",
       "tsgluRe51peBM0orlPpm8BK3ccbIjfR9uRlyd/2LgQ6BTJTZvDK+blJDlQyOGUI3MMYFoZGOOD8Z\n",
       "fYYYSoeXAGvPwe+brMV66Dxq0lDXCFP5AszVxXx5WoROb7B4kWJpNVRTRy9wxxvM0yVRiMPBsgXL\n",
       "BfdwnDYrtQ4ms74YcnGmwQctND5YaRfyVnNkfRjwi1u1pM+xnqh/iZbIItaXj8TwKYh9I6VNb91k\n",
       "ZFxyyNDJyPoXBmLbTn/on9W2KHDeN4CUSMqXdJXIH00bgMSbdTJ/gG9gU/d4Wk4n5wUSPI0d0mNA\n",
       "zGXiBrmGuj/QIr4QGs7baNsW7WE12qhn/wAvHRQmhpcUz3ItJXSuA1Yr5iv4RBWP0tNQLzS0q+/H\n",
       "Wgag2R9OCW3Wb+jRf7Ny9O/u5bFibJzSplblMH/NpaLaCSJOMddwzs5WVodDfq9SIqPCOZW3s302\n",
       "M2pvGAum3t7P2IYiHIQLrOOu1ajMLKkspTXpSqeijGsbj21lgpor9YSWje2W+jNQLW0Qem+oe9KU\n",
       "E2HQnRIzR1t+sXbUytFCELUJAGF1+S5EyeN/K3Q2KqqylxHPPHAEcaUiReyyB1a9F1QaR7Pam295\n",
       "qLJcBgdBB03JuS2Dn82/lFymXGeHuKpJM0Qmw/CqU8PRO1f12UquPMzUjQLG6ny+BJW7HucvyB7Q\n",
       "vXhfPCpc3s2Laiv4jJVWBsrBW6WKW76PKR/2gK1fmdDWqpmdlOykVG9BFAsiWNZ/JxHfQdj2zZ/h\n",
       "9kUkJHJwsktWqXQ0xnIiPPi6/oUccyrZtF5pJLDtGL5xfpOH2cnoz1sA/MX1vLfTXWhDJAVxZL1w\n",
       "7GBWmDwXSojLDdKiat1N/aAw8hlLECamVBWE0Lc6v81jyIK+2eFam+gAbWnI1UudcZZFQAQb4j97\n",
       "7k7D5tBL9JMhC41j4Z+093q8TwznqDA0mnu6J8/GOKusX3krrmG6ii0sTxd3WngWTBJdhWxNQcfo\n",
       "+I9/s4TWHKw0CTAFTXCXnn/XSD/S85OuvuUHa9W4SEI0ErWO875EDvQAAm9UIAAAAwFW0XEAAAJj\n",
       "QZojbEL//oywB8qfmAE7LM9mjw5lXsEKz1edBcKvJlqdU12QDA+DNGhEPGADE38YKl3Q3tci737e\n",
       "21TLPcAZyriqtNvpgH+1/fvt0d/O9V7fViJAHJnp8dSMudclbjnWs2jbMbzk8PBfOf3kNwFllw1j\n",
       "Bv+Xbob/Y40QtjrX6jiSWnZSoUAQd5Uv9hMi+6Gonxe7UxwXLZSh/VT+DAy7KzQorDlVxUUUY3on\n",
       "kLapZxaxX95wCbJUQ9PdR8qCfl5ztyGBwBaQ7dz3KP1BSzKjhJBJBQcVtqHsVRUtZcfmLiRi0cfE\n",
       "/XiyyxfXVbSQvcn/fO/fPgsPnVS7p0f+SXyU7fYlgc322J4AFYzvd4QbHaqfPS0IiJUHTnkQqLQD\n",
       "OBjwyVO9Cf9u/iCH6nNVpGweueAVf9aUMAqSi1kY0NTGx601m0jn8rd7m0n/CE9llQ7LGL2EGRPp\n",
       "jPi/yoC4kkYtDeOucZciD/97KjtnIsPFA7TN5DAV/1j6J2VRe5iK4lyRRXLiLo9gjQdBP3RGOsM3\n",
       "M6qMG+XKQxoCeTypLlhF9OObZH9YDNZ8A3O11bBlNd8kctgFz11TmDJMrXO/jUdsRMeleT7fjLZg\n",
       "qdWTmBtR+ezUwrMPBPUrjJa0+WeGX5KRUXr5wO3zyi/q/w9Rw7uoLYt0m8LEblzPhhDwy6PlRBPp\n",
       "ayMZKuSf1Cp8VvBdtRUMhMU+SdHFJpBhwXL4hycU44xVyuXBcedCdriTt1Q7zbhkWZGA/mKg1dAr\n",
       "fgFNQm/kVcaCZhObXr+E4l32auM1rhal9fVJa2XL5LpG4hx6nLEOcUAAAADAQZ5BeIR/Air2XgtQ\n",
       "CQEPtl63ZnKNdqPumGCKJUu6KLozcjWpVEy3K8ELkEV2JxXENzzk/pcQD063snXNe+BS/KANB00V\n",
       "4Mlki+XRJ7wwcsjhn3wV6ADai4yEYIsUV/k30SdK5r2aCIULeUk791WBFDprj5saDC0ApIFvZU2F\n",
       "oUC0fMzjGtgzqfMIgnHdP680P8PTzYwJu8hZR3ypMYWW3RwXKusOZhk+LL9xkLQ1aA6+x1pdy4Nm\n",
       "/9kd3ajn8ghZAAAAmQGeYmpH/wNdJUgmm5nWDgAAAwAGu9Uy04W3jMQY0i+WjsvJQ08PlzODOjmC\n",
       "xck9zPxflqvmPHGaECy8gLQt80dBarcert6TljdKir2xBYpIjXcWNz6ieKcqz7e7OrXxa8jCTes1\n",
       "9RHq0hlsJCSFkMacI7hfP1RwJwzA5CqYth5UUUI5lks484OlwgmaASe68/R3gJ3MZL4lbAAAAXxB\n",
       "mmdJqEFomUwIX//+jLCE4nMzhHpx2Z3v7p9V/6YAABBj61KpNPV2RLj0T0bZtcSYS7TSSl1D9Biw\n",
       "AOIEuP336TDe8I0CUKffA0Ea3k7Cg7VNFKDnGzZC0xKQlKViY90uuRRC7hxSs92TA2bF6eXBzgs/\n",
       "q6DznIkY/ll+/1NmK25OgYmKLQL103CXl8tce731VjG5rLhur7vea2b6oZNbZ+MVQE4WRN0SOyuH\n",
       "c7nEpt37iUUKx7le2lgI4kV7RK8l+weNcz9ekmdOAIE5UXbDzGL3f2CVqZiiRzuMREvuJ+briJGH\n",
       "Pu+0Y0ATOa3s6OsKjMzeP3yuMyEh0iIWcLa0xGABNtAYjc1ZGiXUqTUNkpE61HdAFRPVhCe+hVN4\n",
       "dowdnd6n9z5D2tab22sR5RBfqW8xJJFevwqMILSDdGTkoHgB3G48eOm+WLC7htzTxZQoBWEnz08C\n",
       "OgIxDYg11xv8LFon7XcwcLWTTwTgOIs/dtpktq9WXu9Gfrrx8QAAALtBnoVFESwj/wKOIrtKlCR/\n",
       "50eAAAEL5aplqygxhmb0smMA2HqsWK0+WiXnJyV5PVXELjgEQgFEOrjA+KiZrC8XHJOSGxCEWvOb\n",
       "h6C+MqPPBJXzggU2sRww0Dz8AD8PATFMEF37BO4ogfRo3Zt+Jzf7Y5GV2I6vtxrsWPLg48b0q5Sq\n",
       "dKWaaIf1c6u5BfpF1xwqAuyJ6kckXtflKncxsmdnEJ9Lnf99INzZgNjXwMx3rIHvnDptaSgDgNaB\n",
       "AAAAhQGepHRH/wfncKuCLzGul3WgAAADAsmNGWluPX7H4sUIGNB76nkbuvKPT/sptOD71d1OrQ6r\n",
       "mXKul5o2U4VxUwrH5pS6mvwnlqf43LuBpAUG9j155f891jK60T1X/uNNV+z7m+ZWTgc8gnXy1rPl\n",
       "L4V5jne7+MkBsDdIFzue1lFROriulIEAAAB9AZ6makf/B+SrsWkIOFGr9v12dmzFsAHJQNNfx+oa\n",
       "iV9XsyuXb/ODcTWLiqIecL8cuHODhV/hHic9fPI2R7NGZEGLOrAPJPNPusENFYKHMJiofTN4qOjp\n",
       "H1hXs2zb+DoEGiCMp5kRa9y+g8+iuaYA/9U+uCUSsmqR42FosIEAAAEtQZqqSahBbJlMCF///oyw\n",
       "ANBwnPc5lsvOfACwfNMtHkFJzTlNmvRjszzYaBS0JoVk7yZLjsN8iuQ/BR/8O+H8+uEWKMyMWew6\n",
       "IAdcYez/aAQse3a3xh4GAw0tiF8YsZSDzGxE3yYyaclHEdM49eJb0Ba2ZKJvPEth1iTShH/wi66G\n",
       "iiCLgN/X1zq+diTU5B/HoJD88aSxFe9MDlTjlVfhmSVl7qQlq2fdaSLzIbU5JK/rDvbWbI3It1Ex\n",
       "Iar1aozjzzqobBn3mqchMZNdj58VaUhxZlV647q2SH0iqJ6wrvTZyUeTHUf8GulJy7dhAbb+BIDN\n",
       "+I7+5FD38WmDNETvx8R8jn8woR7RDVc8WwZAxMhGIJz7nXPXkpnBUTtDlsbVh/MH/K9ndXGnxFfg\n",
       "GQAAAJVBnshFFSwj/wKOFAcLHzL/urrA43wvUvlvf6LVUID/hG84mSvh20sa0eHWvCflXjz7vsFa\n",
       "kUffzBzca0hNFtK7kqHopnnltZfSwJ70HkjbQyHGrzwAfX2mYKXRfrVXsEPV+y0gYoB7+gf7IGvz\n",
       "3eH2wN5500vQ5ka+DSs4LG9MXICWxHsRP59dZiRwlNYQJjg4OkFByQAAAI4BnulqR/8AaXkMd/1u\n",
       "JQiIHYXgUDkwdcn4ni4spO8+ws/noStDKPPzq4yUk5uJ4m7LFRkNLltskcE5L5KfWc+87kOgkh2/\n",
       "EDPrzStot5EYiDtgQAE7eFcI5uRUR2xgx8cTF7oGJk5VBdNjQQi6E4VYS8k0TrM2cNJsLNZRncZh\n",
       "lXPwsIllDhzYWKGoizA5AAABMUGa7UmoQWyZTAhn//6eEADI2sAD/MqPB8AmKgZjayOtO9DiqlIC\n",
       "9Z9TmhfYDZh3qjvxs+94lwIzlfaBYWYcQZiTB9bMSNBW5kIC8udmPSBhFAMiut7v6lO1EkWwmpUS\n",
       "6NXmHgSTICCFhvZ1MvpuOK8O1km9L1lw5WoEIO3MzVxb7KtTMcXLa5jnzo49Ym2ofmqc9ShstIS2\n",
       "yVfHmFs7mVbuo1DK+UKK8mPD57V00gBML+QgP2Z6cwkzse4qqV/TkIAfqZ84gAiwdZPr0xvqQELc\n",
       "hEv1Xkwt9G9elWZncE2CZevpZcDAq07GwV/gi5ttWOGVd47+0atPcW6U+vLBZ1Yc/SV6rTGLccbc\n",
       "qjcFfNDf7SkxI78wNOYOnM8dpN2UTVxwczNsVNuMd9C4RRIwU3NRAAAAiEGfC0UVLCP/Ao4UBuMf\n",
       "LIjC5HNkuEz/GK6U67UZsby++1YX6QwwBgB4q5jm8QKTrWBbhi8GErqARe/YCF//jL1e2T54hcsJ\n",
       "S1wjGKhc+ACdupTpXVNsw9DFEjeRB6dgB6vsimYp+wlRAriyYSKMihwPWhK/3mA5nivxcXjePLMV\n",
       "6LzCfa0dCwgAAAB+AZ8sakf/AGbx+P7tsNSo1vl2if1Hx37a09SOT7Vjwtabxzre3hDmUX5UbgN6\n",
       "3RFUBmYQQ8+xJQUFhUPa6NsN7HlbvyuFYX8IkqFD82698xaeXOVTgstDAA+ELnV43avWCK478dlu\n",
       "h0qHZZUdXi2b8IpObLyCo/0j2T/5SNyBAAABVkGbMUmoQWyZTAhf//6MsADKUf6M/J4gAdAAUada\n",
       "CKv9mayrTyb2yAWlGBOeC1iKiF7uF/9SQy5zaURc8opg7+uUDH/JwrxACLiE0yVYljekyBL/ym3M\n",
       "i9K/w8TUBW2BMfLyv7CNBr0qBmgLmVlRNHuZIdZFoZQe/dmoufGir7cJCeq1lX8pBHPh5NlyE2yb\n",
       "1mrI6ph+OwOff5rGRUJBhCBDXIk5RSpotHDEFb9FivZAZNge0KvFKsDXMhSNm/aDg98jOHPGDNVU\n",
       "Hy1JhFYQZ2wBvdhfGEh+0phJvH1K1eLJxS4aXy08dXrHnrrJI0Q94Y4IKZAboaa2dwauDzyrOuVz\n",
       "ch/nemfweM4f/LafFBj/S52JJomKwKj+aTzX7eaRMO4IPWCM+JYqF7dQOVCphLrW/hrmJmesil0F\n",
       "Ns53r0X63DZg3G1iP97+VqsX51vL5+6Ci0dYwQAAALVBn09FFSwj/wKOFAbl5wTBFNwK+RVqlmFa\n",
       "p34me6z04MWsdMxgIA4qhHJVy0Z64p9+v+7w+7XTjCM2HUc8sGSttzmSwr1ZR4vkOcub/whJU2Ve\n",
       "E4KtPNxzbin/WnTBdez4SouyqPk9dFfv01r4koCgzSH7mGjqFIgJ0Btv9+aG3VX8KVKefL4dg9Un\n",
       "RcsVMyLQLQGkNf1r2bqnso8vsgOaCHcUNuDHHJILh9gKSUCL8wge4HJBAAAAdAGfbnRH/wBnDXhW\n",
       "MwYrt591AI9YGVzKSHiQ0xgEDp2whThbJ5c6LP9vayuSn7Bo+viuUcxV+sODOp/hkFNiQ+H4wR8J\n",
       "tolHwpHeBRmbs49iJftEZy9tA/Z5MKTFgrAdi8gbOe5QcjhZC54Uym7FSdUigVIwAAAAagGfcGpH\n",
       "/wBnOk6enm/XTdOjIhObG4IGWJZhUR/b+WOkmgt4BCOKEdr07Jf/IoJ9O0ePZ/EpgElP1R1/Fxep\n",
       "8bDhv7d/pqAAA4Wq/EiqJg0sbsJtUl+rwmVK5YBNiNfx7hYtAMQK/VLy2ZAAAAEwQZt0SahBbJlM\n",
       "CGf//p4QAMnwnOs//HmbvFnsYAxbeLreGLEAcoAAAAMASw7g0jNgJXsTa+LLU7Jr0x/PevTtCOT2\n",
       "Ba19uqupKZ9VNYnpJaMQrMmkAAU4bY/IkoMZpjxJIfxTgExs5QFSoKniruUPngPaHAoSAIJeo6qO\n",
       "hrlN85oA/qX/csMYkqJCyWn7y2bSobVBxuwvA7Mo6CAdBBxGDgBgUSN6UOTH+UV3cej5OsQqm61x\n",
       "3BvWgTCaZ1rrBJnKxOi9V3m/BJiVAOR/LdMdPU0a3k9oupFBgCObZURYfkNOVckS+EPBDv+DqC1Y\n",
       "tOCu2p0c409mnJULLutX9Lp2hm9QB3r9YvMJlsKmMON87R3eZ6mYmkC9jR2KHgJ4faxrNolBXmZf\n",
       "WFnmGKziFB6+sQAAAItBn5JFFSwj/wKOFAbl/lDTCZzXj9FJ4wc5XOdRc0s8cniRPdpCgu5/Of7U\n",
       "qK6d6Fz8fZ1nUYEPDC6/UH/y7wHIgdQu/1SMXvZVp3dHtXLkzhTMlzPhIXcv3Q30mfrtR8Wac5nv\n",
       "JzbkFW4Ko4Mk1I4IJjf/fiWjWsG2DmV88MJ1O8JGeP3GHv4KKIyAAAAAgwGfs2pH/wBm/gAZ58mx\n",
       "GLbDpU8KBaGLMqN5tIXZcKqHtElMEw4VKKICgwgroAVq7pcqr83bZ0xR7MqQuS7X1xRmAukzZcs/\n",
       "f3D7IfhQyoIVSkVmNUcrvfx102G5WtefquXPH9uvuDP+3gAnFx1eFTGp7QHs7cGsAddbuz0y5dc1\n",
       "kifgAAABf0GbuEmoQWyZTAhn//6eEADDz6HVzo3lPpvUDDH2ZQuwAIulS/JVD42FRqlCcNfxvNxE\n",
       "hhLqB/Ty7LDQE6v3FJGqGx5m9aB3i5n0VsDsTSW+aL29QMyGjLQLoavT0c4nAD4Zb6gyIzHgRHxa\n",
       "CPKckBeQgQ8M+Pf9852SVofF/eBbUnPC9WJJKoYngz3jg4Yfwh995U/3DfIU1gNLFGLOF9F8YLzc\n",
       "WyU+yhgYMAxyTCRiQzdyRJWCOFT+nZxQ8tT/N31t2gC/QBw7AUEOk591oADgZZIoOH/1e7deuNwM\n",
       "7TyXDLfu1z5GfYPVap6JHJMjE8XjWxYmQAAAr7vwifSIm+nridXaBvs4ixJRTEzudc/FhyhIglJD\n",
       "i+vqce5cFZEGtPVY29yRSFyv3TPW4BSDqu7UWnc7+tBIx9g3kSO+WYBWftM8/JHM8+TKj58N5v02\n",
       "/28Ef9GniwXYvycjO8SxqjjX9dBtzLJGxSzsBJa8kQGGXtkuwdkJ5zUKPAJ+uqSBAAAAqEGf1kUV\n",
       "LCP/Ao4UBrsirJao6H+h44IlNLJJbVissh/JeOtfOGTyTr7+rdTu2kkJqc2MLOdp0pmAqqIsU+DV\n",
       "+Pdl/qz6wogIAK7yGixlq6zRdakANVpGVhqARASnWaLrkZDyT2GOt6fUJpEBXHc71Ti1RlNGaMzG\n",
       "PHEAC26bNj94gHJQCuMRyVI3j+HiG2+VYB0CkKHq4dtqeCvhuzTHDVVkIZvDUShCQAAAAGQBn/V0\n",
       "R/8AZKYZnmhqghYvMLPrwFW437DjwQl/rLwB03redlZlxGkhPApjpq+SpYvY35+KJPyRyM4Oi4RI\n",
       "hju3mUKBcjVPK6FB0BltRlp31wgW2pDyv7VcCbVaZfwVIndYhKCrAAAAdAGf92pH/wBkcfj++BVQ\n",
       "dpo2BG+P4IubFS3WeuNVowRYtkA6sMbvknNkeGhdvetoPTgiIQRdGqsSFsMoe3FGTD9psaMVuE30\n",
       "wkE5XMohyFJhF3qHIpbmnn/BmQAEdO52HfRaNbQIWDIfildZ5//AafRC34UVAAABqEGb/EmoQWyZ\n",
       "TAhn//6eEADD2sRZSpO4Kj3YAIu4BEXN92bakKDrKyD0QpSpC9xr3NtCLdRK61hfOhDQL/3vemiZ\n",
       "iVHCF7uGUi02guPRGOQLBExDYsi1dqgL2WN8csBiI1AWCJSLwb3Gz1Lee2HYC/Q52LTlr4FmG3+a\n",
       "KL9MVcDrTi+T3WFADg4dBCqHquNdP2cv7tvfHN2vVc1AAAAZI6UOEg1b3EnfuZRcx0e76hb0ck0P\n",
       "Jo0tMmIQoAgxXNiouMo9tfoOT4UHeWOJ+tgF36Xv1NyCIy23wQtugORfN6/7W7RgkgRPauNAg169\n",
       "GRbz8IQAuuMhsVrL8457Wh5dkt03J9CvlmmTDovYbriu34iNGMItiXcKqX/qjHh6DPEVtzXoEYP2\n",
       "UAaqPtjdxJIw6GLuI14QABTD/NX7M61qQt8RjMT/hA7WOnOQ6SyCUE71+bqMsm34YShycNFKti7L\n",
       "7lmGDC7FBUiPpD1ZmrcjNE0O4FVIXHeEoF9bRNnmbHMEWftGZKXxdZXSBGWEEc99VbwMlvQz2OjU\n",
       "8FyLaTNU1+O4Au5vyfcEPGAAAACWQZ4aRRUsI/8CjhQG5AOHD/yY5ktqV09OWoe1g60i489z8v/t\n",
       "RLVI4F5yEeYhDt/5BlvUXfpSyt1ImhOGrpsSyCIIIMXp5YefODjfve6O51641QosRETu6z0eseBK\n",
       "0AKgMDzYADYDdr3v0oaT5IoIMqQHGH6i/Y1YUXqT2xN2XlX/mi2HrdaWSXL6XxFAylLGV/5E9AYd\n",
       "AAAAVAGeOXRH/wBm8Crb7vB9/rmhwXXudFFAo0hP4GCUwjwrI7sQ1238UDX702qgiPFkMhne9xpb\n",
       "BUh26OZS4RmwlTdU2q1fMMfNfyXdGQ/0ebgDsydg8AAAAG0BnjtqR/8AZHH4/t4pr0h4Pe0BAG9Y\n",
       "C7tpwNqeTK6b5lfdMkeM77U4VACUl+iLATUt0O1zxfxxdQ95lcXDM9Yxu+Kt9VtMY8n1Zc3nlct4\n",
       "pOWxZ3D8e0T5L5FUQylPg5qeQcK0whr9VaEV/IwRAAABg0GaIEmoQWyZTAhf//6MsADGcJz9szCm\n",
       "AGbZsm3DhQ1AaBEAQRyrW1m/aaYNRpwhn3CBvAitbSs54b5aqKXPCAToKsvo7SpjwFcUs+MwWyw5\n",
       "uknjb05tbK45Gv8khpZsYprJ8KVqTOOZASKHThssFMvwjyLDBdJheCdho7wWo9oz04QdaeWZnkaj\n",
       "Z15GZRnoX3mKX7NqK9SUQ7+Y3SVWAqtCGb/Nevr0wJHS6ks4N3IfDYR0tmvMOGaqMjpo9jeYdDNq\n",
       "H1inDYsLU2YWnYTAJv6NA9jDm3HfqqDlw6v6xHXU1j6dZFehPiFGmIdKlq5JfRTmKUG0A8bv2Ixc\n",
       "NjZ1+DGJqdJnx/uFG/k75bpv3wNpRl5GkfKDCIKNyc9s7Jl28/W+VgReSEc2pnfrKrlOJeZqMXr6\n",
       "xDHL6o7O/poEWLhW06BEbaVhiRjWyag2AQOvHbIf5hHjSKWQQlHp2og9mrFPtR/x41B+04pRcvgq\n",
       "FSJXX0BMaCrTE/1t/DROoB0cZR7igQAAAIxBnl5FFSwj/wKOFAa8Cj5MKL5ZZeB0UqBY0hj17Qc9\n",
       "jwK8NYDHH+JVWeJARyNyJZfrinvgO1YGhfwiFHkAejoWWboN919hE6Gv1Xcd4acaostniy7Z8bs0\n",
       "eNWnhKIf7pjHDlpkY+Da/8JACz17pOsupTTl3XV9hMjAVumtDTnD5NlH8hcTP4l3MzhLQAAAAFwB\n",
       "nn10R/8AZHAq2+7Et9BvAvSy+Xi82e/khYNdOxgyVqCi5S14kyJqbpkQG9JOxcS3gduVBtdysEql\n",
       "0vaBqL1NABRKX1zhAx8YQIbaRRdRScptUDjsbrTIdvNqwAAAAG0Bnn9qR/8AYjpOmXvB9K+rpX/T\n",
       "FuiCDQP1pok5ewUWzdIgdKCfULgwkU/vy9YCy9m9VqG2wjm7fRVOWaZvbFJVkVqhhB5q5DRBI2sz\n",
       "83z2zYYLMQ8HbQAfOe2Q1hJWjOKdPk5+z6F3FwEAqKeBAAABfEGaY0moQWyZTAhn//6eEAC+2sIi\n",
       "4gDKu3OlLKrJtAsQgd76MyOYWbKS2qfGaGHdA0eRiopLreUzygxmt7GW1jQNKNClkr37DhWCenrv\n",
       "820Y5y6YBWtac/jl1pp+BsQ7Kqcfcf6L7zzwoHum8QCYMkx1ojZhV1Gyxiqjkh5D97wHZKujR6T1\n",
       "SHqrV5GbfcRiNwgm/EF90V9SgPU1tOj78vhWdZkKCGIQm3pn/5X95pZfh8f/t7Hh/c/mr1pO4mxu\n",
       "T0rH/Z2JIO7LPcfEFolOaERjNeEhraRh5MBc30WPcojd67nR6IQS7MjCfruJca930Vt8D9LjozNT\n",
       "oFzDfDbQq5HU/RB660IM40tatVtfmga8v8owwKzvA6yXNY2ojjcIKO4TA4mviV8ALu58aNH61Ncv\n",
       "slnmyFVlZ6/nTewiBE+ysU4RxFuBzkfFZIkNIZRz4YMBFQhfz+oaXuytsAWc9rshP8Frrw0fZVHO\n",
       "Ny+nAogN+1vAnFWtZ9M8CM+AAAAAkEGegUUVLCP/Ao4UBpAYJZSVXZX7gNE173OrwGlG8ytSjqJl\n",
       "aHYT8OuqtqSCV1+17RCvrkeO1YgajTIbpr5wIh5533PSjUlB4V8t5m8V3jkg0aR8At73nGjQnrJP\n",
       "3l4W4whiWdBv+SsjiWyfMP8bvqrSXR3AAbz6jFLh0R8JrKzNFA6a+2NrqwASd+YQts98cQAAAHoB\n",
       "nqJqR/8AYfH4/t26NbnhsWAGfyiELXXjVTJLepajjbCoqoSju5X/XNIiYAJracTAFF0iqBEMN59a\n",
       "J2xPKSQza0FZCaTyjnr3GS72nSYHHsBThaIcxQwI7zq9o2YAPvIjZ6o37pLR2JCf8SlukBaI9efJ\n",
       "1qsJddqgIAAAAVxBmqdJqEFsmUwIX//+jLAAwXCc/3Qq3uouK4hWyKebzn4+51rqL0bVLTbcAN4h\n",
       "VwbkpYO6SDgbcA5+Cq2EgOeVYy4U0LwlKmdsSwAXv4WUMiW39NzKX8AuQ0axY7Q0Qb0uxOTSIaoo\n",
       "Q3N5wY6n/qeJMtzF+t30kWmXEdwwFxdFyL63w7mhwzyer2Dyzs6Ni0bZ90iSMCREc39uhHl+ZMDr\n",
       "eubAt5U9uWZIyN/bdENHNOuy5V98zf77XOKbB6+ZY31Zjhl8uRpEX9/3EMLPlznl+m6kkD313eQd\n",
       "huMcmRN6uNvL7GlNRjRItnvH3Cfsj+GNel9MPetdkeE/0yGV0QDldI3Fi4DlVlBUmrepF67gmyt9\n",
       "tj3hbNGeVld2SfhZmIQ2VrK0goWwITpPFKO/WT3TJkPrQRHRa9gLy5p/hG+5eBv/zAB6IhV4Tgk3\n",
       "8DRV/iKdQORL/L1ZJIDtHZUAAACgQZ7FRRUsI/8CjhQGlecIIt52/q3kSPFQ13Hh1LhJBVkOD6IA\n",
       "ZHsbyChDRkll7mr4hTnK5JJPl1Oz5rvak265ZbDmOeiQhQZGFV9eX8tL+bGHFcc4S9wd0nOyC44+\n",
       "ZhZToNaBuvQl6ivEGOefOL1DiawIm4p7CPuwwvTxgd2d/YobDqYtudXDfBADvOAOLiqPG/SvrUdt\n",
       "UsLzPRYfhzfjgQAAAGIBnuR0R/8AYiYZodI/CJiFWDixlPFcC/j9lmz+mnAFVqWJXGKQKRdzEN0e\n",
       "eYyJBZruAdQ+2/8/mrl2mARVjYLER20DE9E45ut0ranOnMxVLxjGCvUMXLO+8qagMccCOrDj9wAA\n",
       "AGoBnuZqR/8AYf46nU9MKHBHj8eG2A0sZWp6ZSeuVRcvQnTAXTxMDWy7DuJLlUJdU7Ch1MztqlCO\n",
       "DFj827oUahRUwZfunNhbD5xzuljMQcIw7Ihocfzs9mIBqeaJGXg7QrFNKVN9iIXVFMyBAAABX0Ga\n",
       "6kmoQWyZTAhn//6eEAC51vX+we4VI9NCxXJHjgAP8jIUP4spksM/kyLejPlMyJnFO8jTHd2B02E2\n",
       "vLAkHNY96ROhVkTUaLnRf+SBYwTBdE4ugVT/421CRWOoY/jyd8SNmaahHR+1Tn8iZkmgniDtgf9t\n",
       "KgXLFEopM+kF73u1papBls+0bjs1Gb/6laimvCFWTEOm4I7TMBxRO5grj+fdN1cptVhLOElYjPzD\n",
       "E6L/QW+VZNYoEn5tH5IdViMN4CU60WUlqM9upCFI4CK13TMWpqHp43r0vegbQAzgvh+leSF5UOqB\n",
       "3HJqxjQpIxOR0Lmx4MHKRJon4pqAyaPL6jxPSH7YmJSZfA7nJvdalnWhp7amFa14fiBdGOB7HAFg\n",
       "X6laxgvS1x4Q4aPDIJdEWtukk12ytPxeXu/muUcfloNUVUDhHQgXD8si6yPQpJb24wQs58Ot2ook\n",
       "GeRkhPEMOAAAAIdBnwhFFSwj/wKOFAZvhgsBIIGg65DCeVc4QcblQXq5LliVSh49twahQFVauhQ/\n",
       "pmXDwANO2aWD6/Yo/6T6AKuL+geae1nPVjKfUGgFp2o3ymNAR9k6EjxzG66wxNGifIVrvAtvmhLj\n",
       "1Q0KZ/gM79dth243894e7r4PGpe5kiNAzTykA4wL4IAAAACBAZ8pakf/AF+fo1ppj0YwB9kOq6LT\n",
       "aSOk3QVsACdb/iG4NMlh0y0PEB0KjZcaqkEBRzkCBOonsH63Do5NZBC2Yz5yjFoXGvS1b08NUACa\n",
       "te66H6Z2zbG1/ePToB51PLQCRT8ZBHNbW2a1eaQeFgsWazRz496Hi16t0qp0F3ox/xObAAABg0Gb\n",
       "LkmoQWyZTAhn//6eEAC596HV0LJAFF7tBEQPmXSPLkuWm/8O4sClXnX/xrlGtFyZTDj8JdS9MvhS\n",
       "07Bkk4MP56lYHCXvAYEIchIyVgJXOumiw3S7GbVRq393D1h8FfWyC2M2AyiaPTz5TTcUNEJF9B01\n",
       "pIWRTzzEvV+DpFFwsIbz332nIutv28w+b022cpWMruuoRwTuSd6voeIofPAghu52v+BF5QOdQtBo\n",
       "Gt8ZEAKQDBX7jqaLuhP0K2nWZYBqdyDEdYTyQnans624jbE9NOhoov5f1rqKcVCT9d0digUle8FU\n",
       "ExCBVk0PA3M45EfAlgnPKkbQklzrcr1lWltRhw52BfyxSIcKBTLBUwp+CfYEjfFn4jMJSzHMGMLf\n",
       "tK5X+9iPW2EBX33wAFDOJWXG4ZsW1H6jJm/ynsEN5j0YmvlNw7ILXtTfHTpQ8GBSCI/VnUSakYng\n",
       "7iK21rpXbcS6zFhW/Is5cM5ZMmw0VULFw58UkOjilnpuZCdjAkKBLteIuAAAAJJBn0xFFSwj/wKO\n",
       "FAZrHzK82nt+JTqheAiYaEvP6yNVS2SsBdeIs0NMz0XgCprKk7DpIo/4ABn/0i4DYbTaEPfL7Owi\n",
       "kqF3sHE2I9p3dPeGsrEs6MirkePNiijzHx4cZg2ccuzgZkOy8Kd5HdLD1vO/QClQGBuE6iou8NYi\n",
       "MNjjjKQ2iPXxiz0JjO7DRvIVzeA74AAAAGkBn2t0R/8AX414XP0hAqXeuGErg2bPFKDtdgvZmPND\n",
       "SUBcki0CxMQJ5tUF0xOS2O2o6L9jgJWRFZzzEkuc8M7abgBMr2F2ijB+RP3u/cvZhxVfJkHNbJVf\n",
       "Al7StSl/JGvrvliyiKk4iIEAAABrAZ9takf/AF+6Tp6ec46MQ4cbDGkfzyzNLDihY1TC/fald4wj\n",
       "pDXlmd5MDyj8biOqDlacs5o8EqQEODVz52Kcc2cIlnb3eOZCFtMslGA84jUodHuGbB/gBjuNZrWl\n",
       "8CZroWBWaPJN7rm4RcEAAAGMQZtySahBbJlMCGf//p4QALrzLnWk9cgBAvZevtj80QHYtqYiQwyt\n",
       "06YpGIupOiVMy8Pha9ET5sjECfESPRHNkk98qKbWW0uop8swzoYpH3bKdd4AAAMAACuIKcyUCucH\n",
       "ln9/+ZpqoxWfp+3oRbysY55bRNhLJJFlwqCRSue5o5rMsAiCeJW+3cB20v6cACpTjBOacsWulFn1\n",
       "gGfgVW3CkQ3VFAULIURwH+nXl9sj80bT26Y0Q1i6zNDFg75XwxAm8hzOa/gIupywRn34JfWZTQWf\n",
       "xGrwMvhsrE4u5riaceI9anqL8eqP8+XMnx/4/mg/fnAXwMZQtBLTTaG7gfmYTm0Kx+2+nHouoIW8\n",
       "whaAWDoRj+bFSGC5set5zCdyEbSGYZ4+O50ObrwNPeEmlW9ZU0ANnvhmSsqFS4vOxy2ykJN1iWhZ\n",
       "5N4xdmGKtmurVIqJ7sORt4CuVjkGHtH5mfboKXgY0DwPRZIwK8k5WrCe86A5xY57Exdh5IsVf4Dd\n",
       "RTlaXN3OXyjITnmXZoFLAAAAkEGfkEUVLCP/Ao4UBmwKQP425MWGfTSZREcXHgerpgjGo651J/h/\n",
       "9wl1ViPPFzfAcRlXNYs18LkYEF6N4c+kc0VQjNyGbX2iib1bsAC6i4C+bHiY7BC/AQbkxiK5U7iz\n",
       "ITG6N4eg6JvGVQnTtQoZZS6JcOj8t/bqnx08CPfiwyaMQa38a0eI1jnGYBd5QaD5gAAAAGYBn690\n",
       "R/8AX6W4NluMJuc8HC8FJbbwekFfkMCZfD3myi5BtNieeuNZ/ODhBehKe7LX2K4FCuqKdTSp0j5q\n",
       "H0AjjtkSEDiX0mH9Q1bnJpfBZ/Tte2tyUQM3gRPSqz2yfpVi1dbG6mgAAAB7AZ+xakf/AF0u6Gt3\n",
       "DYxl1RtkcTKaFnBcWWuCojnddtVoLz8twerRe0ZL5cSrO7mnki8jGg8HCKnzn91J8Rii8wUGb6By\n",
       "9BDvZ8gLUnTjrlmY69j6JScb18FgFTiPgzN0dYVfvojj8FZiq6RzTRzEyOt04h4jXuuBF97BAAAB\n",
       "ikGbtkmoQWyZTAhn//6eEAC1d6HfrAGb0HyEc5Fsc33j0f7WIFafGdXva0uL3jDelvz6tz8Gow1E\n",
       "N21N5W/mgHhJW+Z6+nMf2lD9Q0zsyqMPOzVOLAxI9SJA3rbC0hoTWO+ldIAASy5rmi1LJF/bCuYb\n",
       "/on4QdhFzemzL6LuTES5aMcj0uWCytbnq/qyk4ElLwTuHau/HiYQHnBCLOJ98j+HoP4PykL4sxkp\n",
       "pvpzaTHwuuqYxqJUUPGDsxtvoznJ8trdTyBSf5pElTHCiKCl9jRkcDfDTO/pGX4jBk1oaRg4eUmh\n",
       "xQ4+3cVrbzvspo7LczcIOj291uUS2E48WrmLmC4AOPUf9HqNRZUWVgtiJkQnA/2oI/jDk+xoAVKL\n",
       "0DvJpmDZky1hiiwvegc59NHE0tnLRZ+uMbsfhtN4kC224/Hq269aEECVLl0RTz2orqnGn6QuQ5pB\n",
       "I6saHwHpZn7kwxsjbmXLeuAev13B1lJL7jtH9U5aXI8q05dvKcGS6o72DRGfaAWYtY8z4gYAAACa\n",
       "QZ/URRUsI/8CjhQGQx8sh9XWAp9vi2+EU5DWg+WJED4ofyi9abN92iFLwpWLP2VnEOWu+E+QK6Mv\n",
       "o2Mw9Rcw04ADclKCLLeGcqqwWYrV5fDLAXBSgRKSDl4Aay2pXVqR5J69j/UiYZBVsdqWH4Drq1HE\n",
       "TifO95lepX6d3rBRNQIasjJ0wuuhHEScrTqzbGUQMN9WADgIUGAkYAAAAGsBn/N0R/8AXSCGpNlc\n",
       "K/E52IFZnS3uolRQojvGjKCDJtICjF/j1pCb8BgVCnQp4AE1aXAYwGAcMOWNLe5/Qs9UyM362nVF\n",
       "dj6wyjUMm3DSq/Fb+fXsPfySNYKD5zCvQOQV7SlVUyXxaMg4YQAAAHoBn/VqR/8AXQhl/Rfml8J3\n",
       "E+HdBdZ5FHwESJ7vGJV/lvEgedRijk98HPuKnMt2ZNcjZ749D3HwAmHLQf1X9FAl6xNKj0SwOGwN\n",
       "X/8yDKVNgLKKokrMIMKzu8cG3hfTbnf26kdrbXJuLR11r/iIWHxq0ZaZ7+arcZ9VwAAAAXlBm/pJ\n",
       "qEFsmUwIZ//+nhAAtnMudaTpjzopJk/iADQIAGP6B1SaqdSUyzydkI1+rxyfQVOicfAcqPV+L7A3\n",
       "eeo+/E7E/ScRs90ayyyAcbyvwI+piEcuGRVAwOI6U/qcPrguJxQMGUF11FwBE7vPM+xrhHysc0qI\n",
       "0KicMRt8YrmyGFHYdEjeIXMosccSSB1q0hbWhiYJBXR+m9Ob/6ELut3jpV14EJtLP7oeYPyIdlAe\n",
       "0WhHl18fmcyPYghUYuoaptLBaVkUXcMb9iXjrrjAgCeA/k/Q25u+43B8uzpnGBgo334rlY8HjXXQ\n",
       "QpFPy/+xtjci4mt7zK1GfQr4m5j6DrDZdkva3V6SxiWDvpslkKnIAUCA/SRNFxLUiZhr5R0x+bfr\n",
       "ifWPETQVVc+GRFDF/X46Jdu087Wq5LRkW2cCn5BRapxxO+WC49SWtGtXQgPUWDTKOOpG9/92c/pv\n",
       "X5EsqVao1jf71pxybcMRLJpEIzbw8bm6yo+9+2es9QAAAIlBnhhFFSwj/wKOFAZDIqyWuv+ljwq4\n",
       "0xHQYdD1DunTx96zh1zUG49LoAflYMVAC3guiST7u6T0MBCypXl20GDnrXvykHYoAOK3LdWd2HR+\n",
       "U+YjAqYGLI6T04ukDZaQ18l6kPEgLaa8+kRmy4iAODC86PMLbRgVo1jCUocWgtXldZ8IEKSVYzgK\n",
       "WQAAAHUBnjd0R/8AXTWsLYhqdyRVKbWAUYdUDj4pw3Gyhi36MpIAh5eZkAE1dE+SfB1xmSYSdM3q\n",
       "KOCrNd3a4xw89tpozrNciJ/HnOtB7ELbpk/Hv6Qh4OzNTSit2JyZ7149KWQ2XxUuJskm7BDxKcbH\n",
       "OgEfpnhUQ2AAAABrAZ45akf/AF0Tep1PTCiPL1PGqNgIith7aef3L0CEe0U/F6j3/7vu0W/VCiOA\n",
       "2QWsHHCiBkAdV6JwhcKsV8UbymKtBWaqVyMItTGVA21284JzbVQ3hzQTRdUWGsq3f1nNo9JpwlxH\n",
       "xsReJOEAAAGvQZo+SahBbJlMCGf//p4QALECxD/oACvowFAz8zS4bYvRon022odqe+tOAXgGWZ/I\n",
       "DsyBU1mcTELldxMDL+fupB/+S/0f6hHFI6QFZYi4JZ/S5LOFqHvhThZYs1L3Fak7iTZbsFazZ3mJ\n",
       "PFEOCxzuG63gY673SZUKzGQKG8xMwRSdNLZAmmuNco1hDjhI4HX9H+wN/esK3h5V25SoNzh+dRs6\n",
       "U5O8XauWMG4C+mQZ8+IPI7VTvqlLwe+omDchFqQGhZ8HXNJfyxJ+41O0uPGF/rBEQ7hPtXXWv/B4\n",
       "OeVVF9mKqqMB+bWhn0qA+EU54Bn3rAEleLvy+DGZv64oyvEGfGSHwNgPYsY3mrLs5maFeu/MyX/F\n",
       "A77lIP9VgC6Nd6DdbREGsLrmg6wN8DYpRhJUjgCxzrIRR/ZbUOW2U1wMPBAJf302NUu2mHbAedWI\n",
       "AE2fMPjXZYsXfIdp4LnkDqG2XoxQqoAAS14KuIiD+4UDqs9IWCJqr7t4nKuolonk74f8LvqO/m9v\n",
       "Nky5K0L9vMwI3G5NmeJ5KLweCggaN8p4KAStNSX1oL3f+wcmlHo2fYAAAACcQZ5cRRUsI/8CjhQG\n",
       "H5nzyoPaM2Kyu6pfvc3eGB0dJgtLDefESvZLR+fIhON7csb+OfqgAIa6VpqNdGDAj/EU9CUn5oJX\n",
       "vOUFqCT0V98kHTAwVj0lza2ZPsxKVGHrPA5o+OQk24SZOficl9UcKHF8fWzDb9i1kGfTk98fvIk5\n",
       "+xB5V54sNdN/SrGvwVHZ0C8UQmnciPfbnbVpyAtZAAAAbwGee3RH/wBa4Iak2VyhEUf0FU3CIlDR\n",
       "GXqnpgV4nxFhnZmFaRz0AE1x2r7VRFmxVfNKdyBgpB4sguLIzK7JFuEKhgUDtppY1YLWq/pI9V0L\n",
       "VwT9dExapYXEYEr9EEVkBNqb0QhmdN4yE/raicLBVwAAAHcBnn1qR/8AWshmvnO8oCoMK7N3uMEH\n",
       "SpJwxQZp6AXzZfYtBycyaCIdqNB+hzXv8IYTroNUUpzEPt3UAbMicVhwTSCSlDv55MV1A/wgIE+5\n",
       "x7N6pbtoLN6YT8YVJ80J9bs8KEBSY+wt158y33kNzkn0lg0Kh/UTGgAAAaJBmmJJqEFsmUwIX//+\n",
       "jLAAslSPfcRwSeo2e8AZEmY8gK1DPTehoT1ypegElABzy9reJjWfKQgV9QyWv57qk50LC0l0I36j\n",
       "EYneEYDzKLiyT7bscbUHMhTbpbhWXlOEVsskJbrCQPFLM7aaoXasW3mNKDrFnF+6nNIX2+yqDwtN\n",
       "6oTH8IKQhC9WvmlRnYksd5OOQ48yKlwSUMuN6bm77OR3anNvt+UYCfUwjNLr61GygmIirV9z8J2a\n",
       "6xsoAw6ZEKp/b9GE9TA5FTAx/SazzqHQOeir2lzlBJLdNpHH/lkfb3M3S1HLhLKzyvllrRVHG8pF\n",
       "qYPUP+xa7mbP/r5/0q3m9qnILYGMnD47czAKiW8oWOBqrFTfIeRt3Ne4GO2TaCtoCUlMOFhxP+JM\n",
       "gKq+KzQM53o0f2sz4fKh7mX8krthUpT/U66jlo4dJmQD5eVQARlTHY43F+lkQqHdl90etjJC6QIc\n",
       "T+OVWyZBWnV1a0Xw5tFzsvJiqmCb9s5P1eF4QKIJlSseKiUBfMSUbcUVrL/+wRM0lNZrDnIW/2aH\n",
       "4ZdMrNiAAAAAkEGegEUVLCP/Ao4UBh6HBMEUsT4bKUzQEwFtX8r2B0pAehWmIlXY9qOraAtRnWGk\n",
       "fHyDSDIrcv/mJcSAIZK8845joOvm7/atxOYmuMyyaCgb50QtkzQgzJdrX9zuaTH+lkuDpEgOCyCp\n",
       "+X1PnQNSrEWFbhPT84uvbnY4AAGTMqfsckNa6T9P0Cnmt/O+b2tLuQAAAFcBnr90R/8AWuCGpNlc\n",
       "GVIlTyE+8/PskxDJAzgg2MYJNKVx47FesJWNRjWaIW8cNVKSIB3ftCkr2Yl0OUyMrydJeckO1rhx\n",
       "vp/KZysyluSAPf1wY2vCxdAAAABdAZ6hakf/AFsGOwRec46MQ4qeFqx6yCFcaSNVUzkWEJ+N90Jo\n",
       "vgq0y1Wr0skM80cgvsBv/D6rzKc2nA0LVvqWIUGSNc1AYNBniLOZRpgaxyWfijtgTloAewwTh/lB\n",
       "AAABR0GapUmoQWyZTAhn//6eEADXvOjACFOhj1KfLcaUJfq7LDCE/S7sEUsJ4rOpWbTkQTU94RhS\n",
       "VORR6H+c1f2KXRudgZx6bIq58LuTgzqLsA7iVZ12qw574f5256w7arxeixxQUipQN2izdjTHErh5\n",
       "WdWvdPwEylpW0LMA1JmDEe6L91lkm9nK3AidQL42VnAnGDuPdOQYik74anRURNLbbFfRlNa/xJKu\n",
       "lAPtkIuKLOiEdEqKS11siTGkazJjxdFipoCdvz5EQIOqViA5IK03C69IyYPpVS/xyhxJZGJdaXbE\n",
       "vGlwVWz9D24QuU/z8ruaqh/YJoMioaNi1xaxruQIVoR1G0BQMleSpw/dUoHVsIXuZW6yVHUyESA1\n",
       "C6LF6+1trVgx6L3rvgwZRHS8TuvRjiQq7nX8OrXpKWznoIogCwSS0XYr17nBgAAAAJZBnsNFFSwj\n",
       "/wKOFAdiAos6UPrFAdOpcfMV857OcN3NoDQA5jRM+Q0aTHJXH+muG9elLfBr/IIFQGBYgDjqFm6r\n",
       "j/6Ux9CgBYw5KyiIQ4BtkeP5bPXgN6ArtybcV2ops950m/4e3O9X9+eUDFCHsiJlt3yIUmlneEta\n",
       "2adPYB+pVShukvkNAMzwcjjh8DUC9ZknxIIBjIEAAACFAZ7kakf/AG20CYsUAE7OGLljZfPLEEHV\n",
       "O99+wmDrGvlDArhQNdU3t5bKz6h1vbSrwCymv1VaXN+ucuhKOQsYJkjKY+OIaZO2jgXUbHkJete9\n",
       "tyxYxpulZaV/xNDgbu7jPEuoH0/OHYVMumZJko1ZgNeNzyNmxVwZb3tSCXOudfpo1dRFwQAAAYBB\n",
       "mulJqEFsmUwIZ//+nhAA19QYYAJx5qz0emm/U413YWshlvGpG7MdW5JknzgY6QLnzA6me6Yt+Nlp\n",
       "9pc0RXBnU6D2+keXDs3lJWeN9U6BC6d4TxfRXjJ+ny+e0TorAF0LnSGl6HaDJ/PqDv9cHpdvO2IT\n",
       "aoNf2atVng6HbFceK6kwvAYVZtXNqEy/3IkX8uLkCvi1NglJFJqNqyhvUSVOCcdLxjTThUvIe5Gf\n",
       "EhNNVAx9EXroNLy+2EJtvZefrnpdqlGENEmasoxnm5DsyU9fLGwLCcf254+rMxzzyrgkRWKBshgf\n",
       "eUSF+iznrwUx2tDrI3SP0agIvCEAU9o5PSLXcBXrP1XWytDWZs/TJjUPzHCzZ0gCUZyQcY7qNWkc\n",
       "wdg3aCo/cR7xd+g0Z+jf6m0KHNFaq/G9S2zB4SZ53FJowRw/FxYIIF5dLDtnEkVBUuC5mn/k4rRS\n",
       "eJyAULI7LeuTPmGNZLf1Y1NfO5s/+ANgZD6K2D7uXIH55krDEoLPe6kAAAC3QZ8HRRUsI/8CjhQH\n",
       "WKbBabdiMQAFxWIwKK87i0d0nyxHU5PgiBBGcf6Ojlayxx9KXdnYPVSVy0JQ7eqV0bp3vISClgem\n",
       "P0LcaUOYAkEG3Ru45zxNv/Ze0ttegfmmBztq4leQkjxDeu3EisDaLSIxNwpLHNjldFe3/K/wzSuy\n",
       "poUUtQ8OqTOsLCLplt8QTMOCT5GLBHYsJkcNcJXyzlPkUmA+3ru93jkUlVJsVhE8f+UTj6wb3DLh\n",
       "AAAAbgGfJnRH/wBtsDWUZRcw2xXx/C9d8Vn002FlJtDInd+l6BEfpZpxVm9XWObvra1l0PucWCLa\n",
       "XXA50wDQRgnN+q9wV6/a6EDe6JaWnOyXBqCzrxGtcujbvHDgI0E+8h4GALq8JolswM1Rb/eqCVFl\n",
       "AAAAXQGfKGpH/wBtkoj0XJ1bRD1XI5n5/+9UfGtxYAIfK4kGbkqAhxKgKWyET0dYKeW110Y0TK5f\n",
       "L6YQqWKjiSycAyQ3MX+F+Y0G89KAvh4hZUW+KulyCMIg1rO5KtELyAAAAXFBmy1JqEFsmUwIX//+\n",
       "jLAA2QNW8D71AAbydnJ4bM9U0qAJUU4J3PE6EhYM3unjNX/uNe7/JdznwnP0xly8eYiEDFh6wAAA\n",
       "ELLD3tq7zYPscGmsWr4fIidDz9TCwa+DEvFjAEXDs6yVkZemA8sGOVx+tR4vFoNFnLeSDZLIXgaS\n",
       "FTxJ9AK55/rfAYIl8QsUSg3Xh/NYpbiitXL/0SMIUy3j0L0DqOLgLGZVxIuU4pNi8TeP2HzxApR3\n",
       "Ce0N5XYAKaBx/8kEvFjgGJWjAdcgNn6bmB+0h6YmMby5IZ3Z6y5EY6NRzfg+MAlNFg3XSMSAcFVR\n",
       "Y11B449EC8aVbmj+IwV5TrvbpShxwJ0HlUGiTsX4CVckw8CymhNQqm+hjDsOoYzW2gMHebUz1HAs\n",
       "fE0g4vpDpVi+08Hz8KyXiyD+Jt8fG3LpJ8uol5yrXKkn8bCz/CzE8W4Fv0qGjwYdSU3r55V0bXdY\n",
       "5jH9jYcfULB9KmERK4EAAACAQZ9LRRUsI/8CjhQHWtgllJrogF6yRFobAaC7rq+cHhLSqx+Biehi\n",
       "14cwVyVdJsMGTwi2RMorexsShkvIVMKP3anJ8575+NTL4+cqcwfJGNcE69i9UfT0hDJiVlMSXzQU\n",
       "HyoYiGsGjdjD/nJZjeXgCxgdZC1/4f2kOqwVFoxG/0AAAABnAZ9qdEf/AG1BGo6WpgACd3bCUk6O\n",
       "MBftPAvN20xsp1OMEN9hA53qWRVnlF9YDQIYMUQjsKRqg3C/yQ8o2jMLCw4ExfvkhgDvO/PZQx1m\n",
       "qEqkmkTMnKwYcj3qvZpJEAfs6ZQUa6UMaAAAAFwBn2xqR/8AbkK/QFoUZL52Gyo3hVOnBsUmtTTi\n",
       "aEjvp+fkpcUowFkkHOZLwZcyxLDy9R2qTZfOWDlvqfw4P/a8k7wQxJsfCshwmzlZFdIEzWjH7GQ0\n",
       "pv84NkiBbwAAAVpBm3BJqEFsmUwIX//+jLAA2YrJoEABwNCzM3zC8cLzlWdzQpEzLvUuCG/K5u+s\n",
       "RnUi4wznxfOsI8PJ8jUbvzu9IDXCg0YS+xR2CJTdn3mmoDHRzu6z8HnLwqEoe1Dv8tkrkjpOolYk\n",
       "3PTC3Nt6z2T8gR4Xbgk9ORZUAuHmIAwADzaoFQWEmhJcRaEYJMF+6iXyQ234APm957enkjxRX/Mg\n",
       "OKnYWJrx7x3+Yq/uUazlSc+yQfxoBU1/l+hYOTfoLRvs8+164pKXKp+wS8ZlgVtDy40vTqJA1zSF\n",
       "6xDshQGJRve8RascePQMEgAw1aYJPMQsv0Y4BC9XwXIfUCqALwdmH/XXZ9Nso8Fy42RqodE0CqkO\n",
       "6E1BkABHf6mA4k5quPqKcsNRcWLpR5r7APKKBeNwJ0axaylQmKAf7jNgyWOcMEDzTNoNAWuhT1GS\n",
       "RE1gmpie/L18buHUhq4hAAAAZ0GfjkUVLCP/Ao4UBzX+cj8JXvxJLiCws4ksFe8hY5JfO330l/hJ\n",
       "DL/+qmhkJIrQRUnOUeXK5IQ6EZLOAeBYDIxShd3IPN9yi4+98PlWcgGg0jBUSW2tEYiuaMG16gP1\n",
       "LC+8KA/6YEEAAABuAZ+vakf/AGvx/jIQhyDbyhkrZvbMgExy8uRJIRtfr6HmqDwibP+8kZstHJvB\n",
       "oBNNBt8O6P2GzeFrPLkeG+IliteDXhqUTqLe6O4mIaRd/CAwaN/pO5VFJ1zxEMT5KOXtkV/RX6Fa\n",
       "lOiNfB0MTxIAAAFjQZu0SahBbJlMCF///oywANnFgIUaoAC4uaJ5QKKFcBm5dpRoXRfQshnpmgc/\n",
       "CR4JRVxCz8YWy/7YlNwgM1SKqOASJaQ4HDE3uQcrk6q44QdVdIKzWgXA3cB3/z3ZyL+UAUL7ZVir\n",
       "Fo77ZTw/uFBywZXO9dr6x4hZnKA0fOPM7kpdJ2AAA+ZSSL5sBMFaRKxyShiWUJRvfuhMF7D13+YB\n",
       "zx+3X8XIdCeejdx2c8WV4eFz7hHI2C41rVtsLZ3f3klLGvH47MGHOFIdAxVJpIjNv0LpiGjC4UUV\n",
       "iNOgUuOtyAL40Fy93dia6sO3Akyat60NHq/WIhCVooHrZ2ovMtbpFaWMsVVOxytBkt70hgXP+lwM\n",
       "YA5xqAY/BlTFsQv8ZY0cBkEKT68z/ddR2EEMgikzlvytqhquxO346HAv9ivBtqzqlqB0qIfpoRXG\n",
       "GOwv4D3jF5TaBHRcuUKwXVAxwootXDmKtgAAAI1Bn9JFFSwj/wKOFAda2CoggAJ27nTbLBb8ELgc\n",
       "h88CBiV16vymz0FdhlzSLHPLDn2zDINRW99EmU6nYWSxgmixSy+I0TIVNXh2CC3hzdGRlGgz8pJx\n",
       "/2N4Ajb+IFz1azyDGDOPKsDE7W4ei3V8B+AKNtNanRAAAAMA9Uhx4Pq1mnvbcAOMVOufevR6AN0A\n",
       "AABnAZ/xdEf/AG2wNdICACaqnSFDNeApb8+NYqTHs1AgFPfVJdWMYS1OCIauJ0XN3iskd23ni8fJ\n",
       "zLVV99F135OmN473kv84cchz5cY9jDTGsYI0oyO/swn4y4o/Qc3eCDjluuvKyM3vlwAAAGsBn/Nq\n",
       "R/8AbZKL8vHsAB/N5bVAfWYj3F/3io8F78aqv030ZoOcaOObV0ViA+iY2uVxU/h15hiMRcakxwmw\n",
       "v/OvL4ivQRIklo+HuvUoFKKxZ6yf1Oa91CanR2Z7qR0xdIJH3zx+XiVDvD52TAAAARhBm/hJqEFs\n",
       "mUwIX//+jLAA2Y9OeqwAXUet30OVmIz2UtjCT4vuaRkdqUT1/ojdnf61UhgRkfZ1wOz4agGk9XoG\n",
       "bueob5Cx59+cQm/zF3T/hWtWaPBrSlfcpCqhLQMjqs7MOPI0jM35/USEWdQf9DbYygMCLV9lsdyA\n",
       "AIqADzSa6LUrBBBI/psByZY6zgAQFHGWGeAEwywckHp9/qD4Dg3SHWUnaWWm6XMhuIhVqhjdcMp8\n",
       "WR2jY8gTrJZF0S/GtFt+W/dENhPyz7CVlkW67XYxprosjTrYCR1UMkEEwKV2kkgx6QXquPyCOP3B\n",
       "9sPKP+4IWylExIU+zm1viLbNGx/ROq5vcJ15+QowviSBrLG6gEbQ/LOBd2TlAAAAh0GeFkUVLCP/\n",
       "Ao4UB1rXpMevL+T+ErznFmcAYHO+gOJi5K7mRuJbmiN/+T4waSM6+mfsvet2K3WZSjKbzGKpPI6x\n",
       "MToiNqgL2qk9x9OTHHFDy4ozotIPv3O7lpguhAQoAVVx0MgQgLOda/p+4sZhB8h73UbQFjQ16b+2\n",
       "WtUbHwGf0jBezKquAgAAAGQBnjV0R/8AbkB96bAiIA5y7vEAEYdf9rfNPTDDB132+ytZQN1luLUY\n",
       "k5E3lE2YO7OGZDR1O7uC0frY4wVJNNQnFaJjpfMM633C+Dm9TqIGYW3KgMVAYWXM2qvsywT4CL6B\n",
       "nrKBAAAAWwGeN2pH/wBtRJPXg1aaVLm5PzOca3njVAAlf+LyiWEPPZJ3t0NiOGiEUBu33Z6mjdHd\n",
       "dljvKm+Dxn00ROWIG1lJ+IYDdgbFlvQAwPyfIDkoXl2ZO4hcOJ1GP4EAAAD5QZo7SahBbJlMCF//\n",
       "/oywANmPTv2Y1ZjUkIKqH5AAPh3XYy0A1hdiiFTW2QFoDhI6nDHEtb7vg1kcb9H3KJpq28oFFlFy\n",
       "7LR8FdHXs6LDbD4pmVbtwhPz/iMXD/wE8fXHvZ3RKolW4wwL3miIwShNl+Sszo6bc4fAX5yUOzwM\n",
       "zOu0kEHs6iUvtO6Voou0hd0eUqypr49amFM77AQlF8XaaK55540sjYOhceA+T7UDGex3Viz8cUpV\n",
       "/AY+M5N/Uvkg1Cw7FTijOd9sFShs+KkNCOXI4Zkis+jsxk7oe72s/JwuhMN84Ez0FbQbMUfBKXqu\n",
       "nRwqrX1Sri2AAAAAeUGeWUUVLCP/Ao4UB2YzoATV2siDutxdzMHCOvt/yEQX6PO4qE6+Cz6LP7uM\n",
       "gf0BheJhRryyx2g6qGAN9/saZV6TCi/ZsLcVvbN4pzTryDb2A7FQKfuonjysic1Yo9rnQVv/DIal\n",
       "zMX4JrbB9JZz0kDhmX5YZ7JsO2EAAAB2AZ56akf/AG59kBd8ImVIA2587WKQScxAKJILnsMTzZTa\n",
       "ayVsKjkAAW61hSpabSc0eJOL0e0GnwDD2wcBhZsvKbPVEOezLXw+SA6bhADyi2YNbEvVnioBDmdl\n",
       "YVKfQ9BiHlXJL2RSv/fHKVv38VfLsxmld2RXQAAAAQBBmn9JqEFsmUwIV//+OEADNnnCul9+P1Wc\n",
       "fJ9fd+fuL/GE9YAPEbs+BG64ke14xTatj/Ghqq6FoJzY5jX+LcAF8z5Kzo/4tXaK6xhKK4C4qJj0\n",
       "eSWnhI9H1pKo4WXsxJjPMedVSA64YKduKbPIPoKNdJUhcHXgxRjnhDwPozH/vJABglJWNbz8lsh9\n",
       "WwvTBis3+jd/1xukhJeAhmQr79qIcpDnI96E1R2xAnOjE0/QPmntOsFY0J0cyKE5XRudr1/CXy8y\n",
       "5lv7QpfilDZCSacTgVAiABXeJao3agaoMULb6e5gkNiqe9ak9OQAYrC2qsB7zu7n7KOTBIdabxVQ\n",
       "lPzhAAAArUGenUUVLCP/Ao4UBzXnBMEUsTzwPVNl8Ea0yGs+ZIojsi5Y0a4AR0bxFCllnLqsAKwT\n",
       "09Hr0P/+pMbvHCSz7freJQdLgNuxqV2ld/hBvKBpZomXlqjfeqhEBJKFGjbNDxi7anZ47xdFta5P\n",
       "HU1e82WSEuo/XwDPhT+xWr9bBMJx53lQgiRRA2S1Khv4/FG2XBg++JnOr35xp3Mu77hC2K6keYvE\n",
       "gfM0FogQdpS9AAAAZQGevHRH/wBsDXhWMwYr8bTRvKo5fv4CuEQ9BXmbZK0RIAWmqfxD8/egATK9\n",
       "eC9/qDrlgMTjOY2h1BMyKJo5tQVop+7XYYxodlRK2KaOrgjVehWs/kpCPtPg8XBFVRA/lCWzZgD4\n",
       "AAAAZAGevmpH/wBsOk6ennO0dc9k1MOAwjDpAJfn9Cx9Fd5Lb5H5oVBveAATUU6Hb6aN0Llklfwd\n",
       "nwtL/b3XbRs5NuaQeZaobIwgj5cWwdaPoSeb/1j5lkMe/CsQRQoHgPYhreQuQ6oAAACYQZqiSahB\n",
       "bJlMCEf//eEADIiYU3dBvCUglQMtRY5z6QAKBOsgLK93uqxmzBydiNAASYl4bBgvo5o2kX+Ft9hy\n",
       "FTJ/5H/FdtEPbwC2WDE+pENOg6gZLnNvDAbFdknz5WCiYIb5qDMMo79chAZkjuIEFHya/XSQ3gaO\n",
       "UNh2tPa5iMl09LEeG+i5vxq+pGBYScUiL/uHCYPVEPEAAACCQZ7ARRUsI/8CjhQHNf5Q0wmj2Y8A\n",
       "VxKlNfHyVcrQe69LUWI/Z5STwycZZaxm+99haVlDgruWfM0Ti38OZrxLExZEbIgrvRtFGOQIdxdG\n",
       "Mfzr/T4XtXyFJZk9Uxl/Ts/tPZU3dmgBbhcgAAEtUDpEtIpjyZNuoV2fH/RUBJSS5mlZIQAAAGwB\n",
       "nuFqR/8Aa/H4/t4uL5xARHrlAYY29bdILjCnrzCwfPZ1CPwo0o51r3RWovXo8SdwUr9PMCIWMkDk\n",
       "2HI+A6zTUvMbO9Nmdn5m1NSHNY6xBtTG3QxU7FruGibXiIQm/LUhuFx9GunhmdJogoEAAACAQZrj\n",
       "SahBbJlMCP/8hAAw4Oi8ghGZbJG9bKP8QPEvt4Q2B3cIk49jhJdREpK/kQKH3q3/j/JAAPvwYUcJ\n",
       "fXCWh0D4Sy0yi3/yIcr2vbXQBUq9Qjcor5Qr54BHZekU/J4vNpJU1CLgm8PfnHfg/4NsshcNi41B\n",
       "Bl1cRjhsw4EAy4AAAAeSbW9vdgAAAGxtdmhkAAAAAAAAAAAAAAAAAAAD6AAAB9AAAQAAAQAAAAAA\n",
       "AAAAAAAAAAEAAAAAAAAAAAAAAAAAAAABAAAAAAAAAAAAAAAAAABAAAAAAAAAAAAAAAAAAAAAAAAA\n",
       "AAAAAAAAAAAAAAAAAgAABrx0cmFrAAAAXHRraGQAAAADAAAAAAAAAAAAAAABAAAAAAAAB9AAAAAA\n",
       "AAAAAAAAAAAAAAAAAAEAAAAAAAAAAAAAAAAAAAABAAAAAAAAAAAAAAAAAABAAAAAAbAAAAEgAAAA\n",
       "AAAkZWR0cwAAABxlbHN0AAAAAAAAAAEAAAfQAAACAAABAAAAAAY0bWRpYQAAACBtZGhkAAAAAAAA\n",
       "AAAAAAAAAAAyAAAAZABVxAAAAAAALWhkbHIAAAAAAAAAAHZpZGUAAAAAAAAAAAAAAABWaWRlb0hh\n",
       "bmRsZXIAAAAF321pbmYAAAAUdm1oZAAAAAEAAAAAAAAAAAAAACRkaW5mAAAAHGRyZWYAAAAAAAAA\n",
       "AQAAAAx1cmwgAAAAAQAABZ9zdGJsAAAAt3N0c2QAAAAAAAAAAQAAAKdhdmMxAAAAAAAAAAEAAAAA\n",
       "AAAAAAAAAAAAAAAAAbABIABIAAAASAAAAAAAAAABAAAAAAAAAAAAAAAAAAAAAAAAAAAAAAAAAAAA\n",
       "AAAAAAAAGP//AAAANWF2Y0MBZAAe/+EAGGdkAB6s2UGwloQAAAMABAAAAwGQPFi2WAEABmjr48si\n",
       "wP34+AAAAAAcdXVpZGtoQPJfJE/FujmlG88DI/MAAAAAAAAAGHN0dHMAAAAAAAAAAQAAAGQAAAEA\n",
       "AAAAFHN0c3MAAAAAAAAAAQAAAAEAAALgY3R0cwAAAAAAAABaAAAAAQAAAgAAAAABAAAEAAAAAAIA\n",
       "AAEAAAAAAQAABQAAAAABAAACAAAAAAEAAAAAAAAAAQAAAQAAAAABAAAEAAAAAAIAAAEAAAAAAQAA\n",
       "BAAAAAACAAABAAAAAAEAAAUAAAAAAQAAAgAAAAABAAAAAAAAAAEAAAEAAAAAAQAABAAAAAACAAAB\n",
       "AAAAAAEAAAUAAAAAAQAAAgAAAAABAAAAAAAAAAEAAAEAAAAAAQAABQAAAAABAAACAAAAAAEAAAAA\n",
       "AAAAAQAAAQAAAAABAAAFAAAAAAEAAAIAAAAAAQAAAAAAAAABAAABAAAAAAEAAAQAAAAAAgAAAQAA\n",
       "AAABAAAFAAAAAAEAAAIAAAAAAQAAAAAAAAABAAABAAAAAAEAAAQAAAAAAgAAAQAAAAABAAAFAAAA\n",
       "AAEAAAIAAAAAAQAAAAAAAAABAAABAAAAAAEAAAUAAAAAAQAAAgAAAAABAAAAAAAAAAEAAAEAAAAA\n",
       "AQAABQAAAAABAAACAAAAAAEAAAAAAAAAAQAAAQAAAAABAAAFAAAAAAEAAAIAAAAAAQAAAAAAAAAB\n",
       "AAABAAAAAAEAAAUAAAAAAQAAAgAAAAABAAAAAAAAAAEAAAEAAAAAAQAABQAAAAABAAACAAAAAAEA\n",
       "AAAAAAAAAQAAAQAAAAABAAAEAAAAAAIAAAEAAAAAAQAABQAAAAABAAACAAAAAAEAAAAAAAAAAQAA\n",
       "AQAAAAABAAAFAAAAAAEAAAIAAAAAAQAAAAAAAAABAAABAAAAAAEAAAQAAAAAAgAAAQAAAAABAAAF\n",
       "AAAAAAEAAAIAAAAAAQAAAAAAAAABAAABAAAAAAEAAAUAAAAAAQAAAgAAAAABAAAAAAAAAAEAAAEA\n",
       "AAAAAQAABAAAAAACAAABAAAAAAEAAAUAAAAAAQAAAgAAAAABAAAAAAAAAAEAAAEAAAAAAQAABAAA\n",
       "AAACAAABAAAAAAEAAAIAAAAAHHN0c2MAAAAAAAAAAQAAAAEAAABkAAAAAQAAAaRzdHN6AAAAAAAA\n",
       "AAAAAABkAAAWEAAAAmcAAADEAAAAnQAAAYAAAAC/AAAAiQAAAIEAAAExAAAAmQAAAJIAAAE1AAAA\n",
       "jAAAAIIAAAFaAAAAuQAAAHgAAABuAAABNAAAAI8AAACHAAABgwAAAKwAAABoAAAAeAAAAawAAACa\n",
       "AAAAWAAAAHEAAAGHAAAAkAAAAGAAAABxAAABgAAAAJQAAAB+AAABYAAAAKQAAABmAAAAbgAAAWMA\n",
       "AACLAAAAhQAAAYcAAACWAAAAbQAAAG8AAAGQAAAAlAAAAGoAAAB/AAABjgAAAJ4AAABvAAAAfgAA\n",
       "AX0AAACNAAAAeQAAAG8AAAGzAAAAoAAAAHMAAAB7AAABpgAAAJQAAABbAAAAYQAAAUsAAACaAAAA\n",
       "iQAAAYQAAAC7AAAAcgAAAGEAAAF1AAAAhAAAAGsAAABgAAABXgAAAGsAAAByAAABZwAAAJEAAABr\n",
       "AAAAbwAAARwAAACLAAAAaAAAAF8AAAD9AAAAfQAAAHoAAAEEAAAAsQAAAGkAAABoAAAAnAAAAIYA\n",
       "AABwAAAAhAAAABRzdGNvAAAAAAAAAAEAAAAwAAAAYnVkdGEAAABabWV0YQAAAAAAAAAhaGRscgAA\n",
       "AAAAAAAAbWRpcmFwcGwAAAAAAAAAAAAAAAAtaWxzdAAAACWpdG9vAAAAHWRhdGEAAAABAAAAAExh\n",
       "dmY1OS4yNy4xMDA=\n",
       "\">\n",
       "  Your browser does not support the video tag.\n",
       "</video>"
      ],
      "text/plain": [
       "<IPython.core.display.HTML object>"
      ]
     },
     "execution_count": 70,
     "metadata": {},
     "output_type": "execute_result"
    },
    {
     "data": {
      "image/png": "[encoded data removed]",
      "text/plain": [
       "<Figure size 432x288 with 1 Axes>"
      ]
     },
     "metadata": {
      "needs_background": "light"
     },
     "output_type": "display_data"
    }
   ],
   "source": [
    "#Advanced graphics: Animation\n",
    "\n",
    "%matplotlib inline\n",
    "from matplotlib import animation\n",
    "from IPython.display import HTML\n",
    "\n",
    "# First set up the figure, the axis, and the plot element we want to animate\n",
    "fig = plt.figure()\n",
    "ax = plt.axes(xlim=(0, 2), ylim=(-2, 2))\n",
    "line, = ax.plot([], [], lw=2)\n",
    "\n",
    "# initialization function: plot the background of each frame\n",
    "def init():\n",
    "    line.set_data([], [])\n",
    "    return line,\n",
    "\n",
    "# animation function.  This is called sequentially\n",
    "def animate(i):\n",
    "    x = np.linspace(0, 2, 1000)\n",
    "    y = np.sin(2 * np.pi * (x - 0.01 * i))\n",
    "    line.set_data(x, y)\n",
    "    return line,\n",
    "\n",
    "# call the animator.  blit=True means only re-draw the parts that have changed.\n",
    "anim = animation.FuncAnimation(fig, animate, init_func=init, frames=100, interval=20, blit=True)\n",
    "\n",
    "# call our new function to display the animation\n",
    "#display_animation(anim)\n",
    "\n",
    "HTML(anim.to_html5_video())\n",
    "\n"
   ]
  },
  {
   "cell_type": "markdown",
   "id": "9cfe371c-a19b-4d3e-a63b-9862cc1b8276",
   "metadata": {},
   "source": [
    "## useful shortcuts and hints:\n",
    "\n",
    "https://www.dataquest.io/blog/jupyter-notebook-tips-tricks-shortcuts/"
   ]
  },
  {
   "cell_type": "code",
   "execution_count": null,
   "id": "d2ed3159-2559-46ad-95d8-55ffb355fad8",
   "metadata": {},
   "outputs": [],
   "source": [
    "# Try for example Shift-R"
   ]
  }
 ],
 "metadata": {
  "kernelspec": {
   "display_name": "Python 3 (ipykernel)",
   "language": "python",
   "name": "python3"
  },
  "language_info": {
   "codemirror_mode": {
    "name": "ipython",
    "version": 3
   },
   "file_extension": ".py",
   "mimetype": "text/x-python",
   "name": "python",
   "nbconvert_exporter": "python",
   "pygments_lexer": "ipython3",
   "version": "3.9.13"
  }
 },
 "nbformat": 4,
 "nbformat_minor": 5
}
